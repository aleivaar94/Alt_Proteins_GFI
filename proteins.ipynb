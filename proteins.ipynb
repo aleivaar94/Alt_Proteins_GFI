{
 "cells": [
  {
   "cell_type": "code",
   "execution_count": 1,
   "metadata": {},
   "outputs": [
    {
     "name": "stderr",
     "output_type": "stream",
     "text": [
      "c:\\Users\\Ale\\anaconda3\\envs\\alt-protein\\Lib\\site-packages\\tqdm\\auto.py:21: TqdmWarning: IProgress not found. Please update jupyter and ipywidgets. See https://ipywidgets.readthedocs.io/en/stable/user_install.html\n",
      "  from .autonotebook import tqdm as notebook_tqdm\n"
     ]
    }
   ],
   "source": [
    "import pandas as pd\n",
    "import numpy as np\n",
    "import seaborn as sns\n",
    "import matplotlib.pyplot as plt\n",
    "import plotly.express as px\n",
    "import plotly.graph_objs as go\n",
    "import geopandas as gpd\n",
    "import pycountry\n",
    "from ydata_profiling import ProfileReport\n",
    "from scipy.stats import chi2_contingency\n",
    "\n",
    "%matplotlib inline\n",
    "sns.set_style(\"darkgrid\", {\"grid.color\": \".6\", \"grid.linestyle\": \":\"})\n",
    "pd.set_option('display.max_rows', None)"
   ]
  },
  {
   "cell_type": "markdown",
   "metadata": {},
   "source": [
    "## Read File, EDA, Data Cleaning & Transforming"
   ]
  },
  {
   "cell_type": "code",
   "execution_count": 2,
   "metadata": {},
   "outputs": [
    {
     "data": {
      "text/html": [
       "<div>\n",
       "<style scoped>\n",
       "    .dataframe tbody tr th:only-of-type {\n",
       "        vertical-align: middle;\n",
       "    }\n",
       "\n",
       "    .dataframe tbody tr th {\n",
       "        vertical-align: top;\n",
       "    }\n",
       "\n",
       "    .dataframe thead th {\n",
       "        text-align: right;\n",
       "    }\n",
       "</style>\n",
       "<table border=\"1\" class=\"dataframe\">\n",
       "  <thead>\n",
       "    <tr style=\"text-align: right;\">\n",
       "      <th></th>\n",
       "      <th>company</th>\n",
       "      <th>brief_description</th>\n",
       "      <th>protein_category</th>\n",
       "      <th>company_focus</th>\n",
       "      <th>company_type</th>\n",
       "      <th>technology_focus</th>\n",
       "      <th>product_type</th>\n",
       "      <th>animal_type_analog</th>\n",
       "      <th>ingredient_type</th>\n",
       "      <th>operating_regions</th>\n",
       "      <th>country_region</th>\n",
       "      <th>state</th>\n",
       "      <th>city</th>\n",
       "      <th>website</th>\n",
       "      <th>year_founded</th>\n",
       "      <th>founders</th>\n",
       "      <th>logo</th>\n",
       "    </tr>\n",
       "  </thead>\n",
       "  <tbody>\n",
       "    <tr>\n",
       "      <th>0</th>\n",
       "      <td>FrieslandCampina</td>\n",
       "      <td>Dutch multinational dairy cooperative that has...</td>\n",
       "      <td>Plant-based</td>\n",
       "      <td>Dairy</td>\n",
       "      <td>Diversified</td>\n",
       "      <td>End product formulation and manufacturing</td>\n",
       "      <td>Milk</td>\n",
       "      <td>NaN</td>\n",
       "      <td>Oat,Soy</td>\n",
       "      <td>Europe</td>\n",
       "      <td>Netherlands</td>\n",
       "      <td>NaN</td>\n",
       "      <td>Amersfoort</td>\n",
       "      <td>https://www.frieslandcampina.com/</td>\n",
       "      <td>2008.0</td>\n",
       "      <td>NaN</td>\n",
       "      <td>logo-fc-full.svg (https://v5.airtableuserconte...</td>\n",
       "    </tr>\n",
       "    <tr>\n",
       "      <th>1</th>\n",
       "      <td>Finless Foods</td>\n",
       "      <td>U.S.-based company working on plant-based fish...</td>\n",
       "      <td>Cultivated,Plant-based</td>\n",
       "      <td>Meat,Seafood</td>\n",
       "      <td>Specialized (focused on alternative proteins)</td>\n",
       "      <td>Cell culture media,End product formulation and...</td>\n",
       "      <td>Whole muscle meat/seafood</td>\n",
       "      <td>Fish</td>\n",
       "      <td>NaN</td>\n",
       "      <td>U.S. and Canada</td>\n",
       "      <td>United States</td>\n",
       "      <td>California</td>\n",
       "      <td>San Francisco</td>\n",
       "      <td>https://finlessfoods.com/</td>\n",
       "      <td>2017.0</td>\n",
       "      <td>Mike Selden, Brian Wyrwas</td>\n",
       "      <td>Capture.JPG (https://v5.airtableusercontent.co...</td>\n",
       "    </tr>\n",
       "    <tr>\n",
       "      <th>2</th>\n",
       "      <td>Avant Meats</td>\n",
       "      <td>Hong Kong-based company using proprietary biot...</td>\n",
       "      <td>Cultivated</td>\n",
       "      <td>Meat,Seafood</td>\n",
       "      <td>Specialized (focused on alternative proteins)</td>\n",
       "      <td>End product formulation and manufacturing</td>\n",
       "      <td>Ground meat/seafood</td>\n",
       "      <td>Fish</td>\n",
       "      <td>NaN</td>\n",
       "      <td>Asia Pacific</td>\n",
       "      <td>Mainland China</td>\n",
       "      <td>NaN</td>\n",
       "      <td>Hong Kong SAR</td>\n",
       "      <td>https://www.avantmeats.com/</td>\n",
       "      <td>2018.0</td>\n",
       "      <td>Carrie Chan, Mario Chin</td>\n",
       "      <td>tbnkq9whzxvh5fxpj6uj.png (https://v5.airtableu...</td>\n",
       "    </tr>\n",
       "    <tr>\n",
       "      <th>3</th>\n",
       "      <td>Upside Foods</td>\n",
       "      <td>U.S.-based cultivated meat startup producing b...</td>\n",
       "      <td>Cultivated</td>\n",
       "      <td>Meat</td>\n",
       "      <td>Specialized (focused on alternative proteins)</td>\n",
       "      <td>Cell line development,End product formulation ...</td>\n",
       "      <td>NaN</td>\n",
       "      <td>Duck,Beef/veal,Chicken</td>\n",
       "      <td>NaN</td>\n",
       "      <td>U.S. and Canada</td>\n",
       "      <td>United States</td>\n",
       "      <td>California</td>\n",
       "      <td>San Leandro</td>\n",
       "      <td>http://www.memphismeats.com/</td>\n",
       "      <td>2015.0</td>\n",
       "      <td>Uma Valeti, Nicholas Genovese, Will Clem</td>\n",
       "      <td>Horizontal_Black.png (https://v5.airtableuserc...</td>\n",
       "    </tr>\n",
       "    <tr>\n",
       "      <th>4</th>\n",
       "      <td>BioTech Foods</td>\n",
       "      <td>Spain-based startup producing cultivated meat ...</td>\n",
       "      <td>Cultivated</td>\n",
       "      <td>Meat</td>\n",
       "      <td>Specialized (focused on alternative proteins)</td>\n",
       "      <td>End product formulation and manufacturing</td>\n",
       "      <td>Ground meat/seafood</td>\n",
       "      <td>Beef/veal</td>\n",
       "      <td>NaN</td>\n",
       "      <td>Europe</td>\n",
       "      <td>Spain</td>\n",
       "      <td>NaN</td>\n",
       "      <td>San Sebastián</td>\n",
       "      <td>https://biotech-foods.com/</td>\n",
       "      <td>2017.0</td>\n",
       "      <td>Mercedes Vila Juarez</td>\n",
       "      <td>dko8ln1xykb67qgiek0w.png (https://v5.airtableu...</td>\n",
       "    </tr>\n",
       "  </tbody>\n",
       "</table>\n",
       "</div>"
      ],
      "text/plain": [
       "            company                                  brief_description  \\\n",
       "0  FrieslandCampina  Dutch multinational dairy cooperative that has...   \n",
       "1     Finless Foods  U.S.-based company working on plant-based fish...   \n",
       "2       Avant Meats  Hong Kong-based company using proprietary biot...   \n",
       "3     Upside Foods   U.S.-based cultivated meat startup producing b...   \n",
       "4     BioTech Foods  Spain-based startup producing cultivated meat ...   \n",
       "\n",
       "         protein_category company_focus  \\\n",
       "0             Plant-based         Dairy   \n",
       "1  Cultivated,Plant-based  Meat,Seafood   \n",
       "2              Cultivated  Meat,Seafood   \n",
       "3              Cultivated          Meat   \n",
       "4              Cultivated          Meat   \n",
       "\n",
       "                                    company_type  \\\n",
       "0                                    Diversified   \n",
       "1  Specialized (focused on alternative proteins)   \n",
       "2  Specialized (focused on alternative proteins)   \n",
       "3  Specialized (focused on alternative proteins)   \n",
       "4  Specialized (focused on alternative proteins)   \n",
       "\n",
       "                                    technology_focus  \\\n",
       "0          End product formulation and manufacturing   \n",
       "1  Cell culture media,End product formulation and...   \n",
       "2          End product formulation and manufacturing   \n",
       "3  Cell line development,End product formulation ...   \n",
       "4          End product formulation and manufacturing   \n",
       "\n",
       "                product_type      animal_type_analog ingredient_type  \\\n",
       "0                       Milk                     NaN         Oat,Soy   \n",
       "1  Whole muscle meat/seafood                    Fish             NaN   \n",
       "2        Ground meat/seafood                    Fish             NaN   \n",
       "3                        NaN  Duck,Beef/veal,Chicken             NaN   \n",
       "4        Ground meat/seafood               Beef/veal             NaN   \n",
       "\n",
       "  operating_regions  country_region       state            city  \\\n",
       "0            Europe     Netherlands         NaN      Amersfoort   \n",
       "1   U.S. and Canada   United States  California   San Francisco   \n",
       "2      Asia Pacific  Mainland China         NaN  Hong Kong SAR    \n",
       "3   U.S. and Canada   United States  California     San Leandro   \n",
       "4            Europe           Spain         NaN   San Sebastián   \n",
       "\n",
       "                             website  year_founded  \\\n",
       "0  https://www.frieslandcampina.com/        2008.0   \n",
       "1          https://finlessfoods.com/        2017.0   \n",
       "2        https://www.avantmeats.com/        2018.0   \n",
       "3       http://www.memphismeats.com/        2015.0   \n",
       "4         https://biotech-foods.com/        2017.0   \n",
       "\n",
       "                                   founders  \\\n",
       "0                                       NaN   \n",
       "1                 Mike Selden, Brian Wyrwas   \n",
       "2                   Carrie Chan, Mario Chin   \n",
       "3  Uma Valeti, Nicholas Genovese, Will Clem   \n",
       "4                      Mercedes Vila Juarez   \n",
       "\n",
       "                                                logo  \n",
       "0  logo-fc-full.svg (https://v5.airtableuserconte...  \n",
       "1  Capture.JPG (https://v5.airtableusercontent.co...  \n",
       "2  tbnkq9whzxvh5fxpj6uj.png (https://v5.airtableu...  \n",
       "3  Horizontal_Black.png (https://v5.airtableuserc...  \n",
       "4  dko8ln1xykb67qgiek0w.png (https://v5.airtableu...  "
      ]
     },
     "execution_count": 2,
     "metadata": {},
     "output_type": "execute_result"
    }
   ],
   "source": [
    "df = pd.read_csv('proteins.csv')\n",
    "df.columns = df.columns.str.lower().str.replace(' ', '_').str.replace('-', '_').str.replace('/', '_')\n",
    "df.head()\n",
    "\n",
    "# df.to_csv('proteins_clean.csv')"
   ]
  },
  {
   "cell_type": "markdown",
   "metadata": {},
   "source": [
    "## Automated EDA (see `alt_proteins_EDA.html`)\n",
    "\n",
    "![EDA](assets/EDA.gif)"
   ]
  },
  {
   "cell_type": "code",
   "execution_count": 3,
   "metadata": {},
   "outputs": [],
   "source": [
    "# # EDA Profiling\n",
    "# profile = ProfileReport(df, title='Alt Proteins EDA')\n",
    "# profile.to_file(\"alt_proteins_EDA.html\")"
   ]
  },
  {
   "cell_type": "code",
   "execution_count": 4,
   "metadata": {},
   "outputs": [],
   "source": [
    "columns_to_sort = ['protein_category', 'company_focus', \n",
    "                   'technology_focus','product_type', 'animal_type_analog', \n",
    "                   'ingredient_type','operating_regions', \n",
    "                   'country_region', 'state', 'city', 'year_founded']\n",
    "\n",
    "unique_values = {}\n",
    "\n",
    "for column in columns_to_sort:\n",
    "    unique_values[column] = np.sort(df[column].astype(str).unique())\n",
    "\n",
    "# for column, values in unique_values.items():\n",
    "#     print(f'{column}:', values)"
   ]
  },
  {
   "cell_type": "markdown",
   "metadata": {},
   "source": [
    "- Unnest multiple values"
   ]
  },
  {
   "cell_type": "code",
   "execution_count": 5,
   "metadata": {},
   "outputs": [
    {
     "data": {
      "text/html": [
       "<div>\n",
       "<style scoped>\n",
       "    .dataframe tbody tr th:only-of-type {\n",
       "        vertical-align: middle;\n",
       "    }\n",
       "\n",
       "    .dataframe tbody tr th {\n",
       "        vertical-align: top;\n",
       "    }\n",
       "\n",
       "    .dataframe thead th {\n",
       "        text-align: right;\n",
       "    }\n",
       "</style>\n",
       "<table border=\"1\" class=\"dataframe\">\n",
       "  <thead>\n",
       "    <tr style=\"text-align: right;\">\n",
       "      <th></th>\n",
       "      <th>original_index</th>\n",
       "      <th>company</th>\n",
       "      <th>brief_description</th>\n",
       "      <th>protein_category</th>\n",
       "      <th>company_focus</th>\n",
       "      <th>company_type</th>\n",
       "      <th>technology_focus</th>\n",
       "      <th>product_type</th>\n",
       "      <th>animal_type_analog</th>\n",
       "      <th>ingredient_type</th>\n",
       "      <th>operating_regions</th>\n",
       "      <th>country_region</th>\n",
       "      <th>state</th>\n",
       "      <th>city</th>\n",
       "      <th>website</th>\n",
       "      <th>year_founded</th>\n",
       "      <th>founders</th>\n",
       "      <th>logo</th>\n",
       "    </tr>\n",
       "  </thead>\n",
       "  <tbody>\n",
       "    <tr>\n",
       "      <th>0</th>\n",
       "      <td>0</td>\n",
       "      <td>FrieslandCampina</td>\n",
       "      <td>Dutch multinational dairy cooperative that has...</td>\n",
       "      <td>Plant-based</td>\n",
       "      <td>Dairy</td>\n",
       "      <td>Diversified</td>\n",
       "      <td>End product formulation and manufacturing</td>\n",
       "      <td>Milk</td>\n",
       "      <td>NaN</td>\n",
       "      <td>Oat</td>\n",
       "      <td>Europe</td>\n",
       "      <td>Netherlands</td>\n",
       "      <td>NaN</td>\n",
       "      <td>Amersfoort</td>\n",
       "      <td>https://www.frieslandcampina.com/</td>\n",
       "      <td>2008.0</td>\n",
       "      <td>NaN</td>\n",
       "      <td>logo-fc-full.svg (https://v5.airtableuserconte...</td>\n",
       "    </tr>\n",
       "    <tr>\n",
       "      <th>1</th>\n",
       "      <td>0</td>\n",
       "      <td>FrieslandCampina</td>\n",
       "      <td>Dutch multinational dairy cooperative that has...</td>\n",
       "      <td>Plant-based</td>\n",
       "      <td>Dairy</td>\n",
       "      <td>Diversified</td>\n",
       "      <td>End product formulation and manufacturing</td>\n",
       "      <td>Milk</td>\n",
       "      <td>NaN</td>\n",
       "      <td>Soy</td>\n",
       "      <td>Europe</td>\n",
       "      <td>Netherlands</td>\n",
       "      <td>NaN</td>\n",
       "      <td>Amersfoort</td>\n",
       "      <td>https://www.frieslandcampina.com/</td>\n",
       "      <td>2008.0</td>\n",
       "      <td>NaN</td>\n",
       "      <td>logo-fc-full.svg (https://v5.airtableuserconte...</td>\n",
       "    </tr>\n",
       "    <tr>\n",
       "      <th>2</th>\n",
       "      <td>1</td>\n",
       "      <td>Finless Foods</td>\n",
       "      <td>U.S.-based company working on plant-based fish...</td>\n",
       "      <td>Cultivated</td>\n",
       "      <td>Meat</td>\n",
       "      <td>Specialized (focused on alternative proteins)</td>\n",
       "      <td>Cell culture media</td>\n",
       "      <td>Whole muscle meat/seafood</td>\n",
       "      <td>Fish</td>\n",
       "      <td>NaN</td>\n",
       "      <td>U.S. and Canada</td>\n",
       "      <td>United States</td>\n",
       "      <td>California</td>\n",
       "      <td>San Francisco</td>\n",
       "      <td>https://finlessfoods.com/</td>\n",
       "      <td>2017.0</td>\n",
       "      <td>Mike Selden, Brian Wyrwas</td>\n",
       "      <td>Capture.JPG (https://v5.airtableusercontent.co...</td>\n",
       "    </tr>\n",
       "    <tr>\n",
       "      <th>3</th>\n",
       "      <td>1</td>\n",
       "      <td>Finless Foods</td>\n",
       "      <td>U.S.-based company working on plant-based fish...</td>\n",
       "      <td>Cultivated</td>\n",
       "      <td>Meat</td>\n",
       "      <td>Specialized (focused on alternative proteins)</td>\n",
       "      <td>End product formulation and manufacturing</td>\n",
       "      <td>Whole muscle meat/seafood</td>\n",
       "      <td>Fish</td>\n",
       "      <td>NaN</td>\n",
       "      <td>U.S. and Canada</td>\n",
       "      <td>United States</td>\n",
       "      <td>California</td>\n",
       "      <td>San Francisco</td>\n",
       "      <td>https://finlessfoods.com/</td>\n",
       "      <td>2017.0</td>\n",
       "      <td>Mike Selden, Brian Wyrwas</td>\n",
       "      <td>Capture.JPG (https://v5.airtableusercontent.co...</td>\n",
       "    </tr>\n",
       "    <tr>\n",
       "      <th>4</th>\n",
       "      <td>1</td>\n",
       "      <td>Finless Foods</td>\n",
       "      <td>U.S.-based company working on plant-based fish...</td>\n",
       "      <td>Cultivated</td>\n",
       "      <td>Seafood</td>\n",
       "      <td>Specialized (focused on alternative proteins)</td>\n",
       "      <td>Cell culture media</td>\n",
       "      <td>Whole muscle meat/seafood</td>\n",
       "      <td>Fish</td>\n",
       "      <td>NaN</td>\n",
       "      <td>U.S. and Canada</td>\n",
       "      <td>United States</td>\n",
       "      <td>California</td>\n",
       "      <td>San Francisco</td>\n",
       "      <td>https://finlessfoods.com/</td>\n",
       "      <td>2017.0</td>\n",
       "      <td>Mike Selden, Brian Wyrwas</td>\n",
       "      <td>Capture.JPG (https://v5.airtableusercontent.co...</td>\n",
       "    </tr>\n",
       "  </tbody>\n",
       "</table>\n",
       "</div>"
      ],
      "text/plain": [
       "   original_index           company  \\\n",
       "0               0  FrieslandCampina   \n",
       "1               0  FrieslandCampina   \n",
       "2               1     Finless Foods   \n",
       "3               1     Finless Foods   \n",
       "4               1     Finless Foods   \n",
       "\n",
       "                                   brief_description protein_category  \\\n",
       "0  Dutch multinational dairy cooperative that has...      Plant-based   \n",
       "1  Dutch multinational dairy cooperative that has...      Plant-based   \n",
       "2  U.S.-based company working on plant-based fish...       Cultivated   \n",
       "3  U.S.-based company working on plant-based fish...       Cultivated   \n",
       "4  U.S.-based company working on plant-based fish...       Cultivated   \n",
       "\n",
       "  company_focus                                   company_type  \\\n",
       "0         Dairy                                    Diversified   \n",
       "1         Dairy                                    Diversified   \n",
       "2          Meat  Specialized (focused on alternative proteins)   \n",
       "3          Meat  Specialized (focused on alternative proteins)   \n",
       "4       Seafood  Specialized (focused on alternative proteins)   \n",
       "\n",
       "                            technology_focus               product_type  \\\n",
       "0  End product formulation and manufacturing                       Milk   \n",
       "1  End product formulation and manufacturing                       Milk   \n",
       "2                         Cell culture media  Whole muscle meat/seafood   \n",
       "3  End product formulation and manufacturing  Whole muscle meat/seafood   \n",
       "4                         Cell culture media  Whole muscle meat/seafood   \n",
       "\n",
       "  animal_type_analog ingredient_type operating_regions country_region  \\\n",
       "0                NaN             Oat            Europe    Netherlands   \n",
       "1                NaN             Soy            Europe    Netherlands   \n",
       "2               Fish             NaN   U.S. and Canada  United States   \n",
       "3               Fish             NaN   U.S. and Canada  United States   \n",
       "4               Fish             NaN   U.S. and Canada  United States   \n",
       "\n",
       "        state           city                            website  year_founded  \\\n",
       "0         NaN     Amersfoort  https://www.frieslandcampina.com/        2008.0   \n",
       "1         NaN     Amersfoort  https://www.frieslandcampina.com/        2008.0   \n",
       "2  California  San Francisco          https://finlessfoods.com/        2017.0   \n",
       "3  California  San Francisco          https://finlessfoods.com/        2017.0   \n",
       "4  California  San Francisco          https://finlessfoods.com/        2017.0   \n",
       "\n",
       "                    founders  \\\n",
       "0                        NaN   \n",
       "1                        NaN   \n",
       "2  Mike Selden, Brian Wyrwas   \n",
       "3  Mike Selden, Brian Wyrwas   \n",
       "4  Mike Selden, Brian Wyrwas   \n",
       "\n",
       "                                                logo  \n",
       "0  logo-fc-full.svg (https://v5.airtableuserconte...  \n",
       "1  logo-fc-full.svg (https://v5.airtableuserconte...  \n",
       "2  Capture.JPG (https://v5.airtableusercontent.co...  \n",
       "3  Capture.JPG (https://v5.airtableusercontent.co...  \n",
       "4  Capture.JPG (https://v5.airtableusercontent.co...  "
      ]
     },
     "execution_count": 5,
     "metadata": {},
     "output_type": "execute_result"
    }
   ],
   "source": [
    "nested_columns = ['protein_category', 'company_focus', 'technology_focus',\n",
    " 'product_type', 'animal_type_analog', 'ingredient_type','operating_regions', \n",
    " ]\n",
    "\n",
    "df_explode = df.copy()\n",
    "\n",
    "# Converting multi-valued cells into lists and exploding the columns\n",
    "for column in nested_columns:\n",
    "    df_explode[column] = df_explode[column].str.split(',')\n",
    "    df_explode = df_explode.explode(column)\n",
    "\n",
    "df_explode.reset_index(inplace=True)\n",
    "df_explode.rename(columns={'index': 'original_index'}, inplace=True)\n",
    "\n",
    "df_explode.head()\n",
    "\n",
    "# df_explode.to_csv('proteins_unpacked.csv', index=False)\n"
   ]
  },
  {
   "cell_type": "code",
   "execution_count": 6,
   "metadata": {},
   "outputs": [],
   "source": [
    "# # EDA Profiling\n",
    "# profile = ProfileReport(df, title='Alt Proteins EDA - Unpacked')\n",
    "# profile.to_file(\"alt_proteins_EDA_unpack.html\")"
   ]
  },
  {
   "cell_type": "code",
   "execution_count": 7,
   "metadata": {},
   "outputs": [
    {
     "data": {
      "application/vnd.plotly.v1+json": {
       "config": {
        "plotlyServerURL": "https://plot.ly"
       },
       "data": [
        {
         "alignmentgroup": "True",
         "bingroup": "x",
         "hovertemplate": "year_founded=%{x}<br>count=%{y}<extra></extra>",
         "legendgroup": "",
         "marker": {
          "color": "gray",
          "line": {
           "color": "black",
           "width": 1
          },
          "pattern": {
           "shape": ""
          }
         },
         "name": "",
         "nbinsx": 100,
         "offsetgroup": "",
         "orientation": "v",
         "showlegend": false,
         "type": "histogram",
         "x": [
          2008,
          2017,
          2018,
          2015,
          2017,
          2017,
          2019,
          2019,
          2018,
          2020,
          1990,
          2019,
          2019,
          2019,
          2019,
          2018,
          2020,
          2018,
          2020,
          2018,
          2018,
          2015,
          1980,
          2017,
          2018,
          2017,
          2017,
          2018,
          2019,
          2019,
          2011,
          2011,
          2019,
          2018,
          2002,
          2015,
          2017,
          2019,
          2017,
          2015,
          2012,
          1979,
          2017,
          2019,
          2016,
          1993,
          2018,
          2018,
          2019,
          2000,
          2001,
          1994,
          1985,
          2019,
          2013,
          2014,
          1987,
          1967,
          1980,
          2018,
          2019,
          2018,
          2019,
          2017,
          1980,
          2017,
          2014,
          2013,
          1996,
          1980,
          2018,
          2014,
          2016,
          1919,
          1930,
          2004,
          2019,
          2001,
          2013,
          2017,
          2019,
          2009,
          2014,
          2004,
          2017,
          2019,
          2016,
          2017,
          2019,
          2001,
          2019,
          2012,
          2016,
          2013,
          2015,
          2015,
          2018,
          2014,
          2019,
          1991,
          2009,
          2010,
          1981,
          2009,
          2015,
          2018,
          2012,
          2015,
          2016,
          2018,
          2012,
          2004,
          1978,
          2019,
          2011,
          2013,
          2014,
          2019,
          2019,
          2015,
          2016,
          2016,
          2016,
          2018,
          2016,
          1997,
          1970,
          2015,
          2013,
          2012,
          2016,
          2019,
          2011,
          2015,
          1993,
          2019,
          2015,
          2014,
          2014,
          2017,
          2019,
          2010,
          1978,
          1988,
          2015,
          2011,
          2000,
          2010,
          2009,
          2016,
          2009,
          1967,
          2016,
          2021,
          2019,
          1994,
          2015,
          2013,
          1980,
          2017,
          2017,
          2019,
          2015,
          1990,
          2015,
          2014,
          2004,
          2013,
          1765,
          2006,
          2020,
          2013,
          2019,
          2016,
          1925,
          2019,
          2015,
          2008,
          2015,
          2019,
          2008,
          2015,
          2013,
          2006,
          null,
          2012,
          2017,
          1988,
          2010,
          2016,
          2016,
          2016,
          2017,
          2017,
          2010,
          1998,
          2017,
          2011,
          2017,
          2018,
          2011,
          2018,
          1997,
          2017,
          2018,
          1985,
          2011,
          2013,
          2011,
          2006,
          2013,
          2013,
          2011,
          2018,
          2018,
          2016,
          1990,
          1999,
          2011,
          2009,
          2002,
          2016,
          2017,
          2017,
          2019,
          2017,
          2013,
          1979,
          2015,
          2015,
          1987,
          2014,
          2015,
          2014,
          2010,
          1995,
          2012,
          1993,
          1910,
          2019,
          2018,
          2016,
          2019,
          2016,
          2015,
          1996,
          2018,
          2004,
          2010,
          1983,
          2014,
          2019,
          2018,
          2016,
          2020,
          2015,
          2013,
          2019,
          2019,
          2014,
          2018,
          2018,
          2017,
          2019,
          2014,
          2013,
          2003,
          1986,
          2015,
          2016,
          2017,
          1983,
          2016,
          1981,
          2019,
          1862,
          2015,
          2019,
          2016,
          1974,
          1871,
          1991,
          2012,
          2014,
          2016,
          1950,
          2007,
          1994,
          1999,
          1922,
          1990,
          2013,
          2012,
          2018,
          2013,
          2010,
          2016,
          2015,
          1981,
          2008,
          2015,
          1985,
          2014,
          2012,
          2017,
          2012,
          2014,
          2004,
          2015,
          1998,
          1940,
          2014,
          1987,
          2016,
          1999,
          1950,
          2016,
          2013,
          2008,
          2017,
          1991,
          2017,
          2019,
          2015,
          1985,
          2015,
          2011,
          2015,
          2017,
          1989,
          1999,
          2017,
          2015,
          2017,
          2018,
          2016,
          1991,
          2004,
          2015,
          1950,
          1963,
          2014,
          2012,
          2016,
          1999,
          2016,
          1997,
          1995,
          2010,
          1996,
          2004,
          2017,
          2017,
          1992,
          2012,
          2015,
          2008,
          1990,
          2009,
          2015,
          2013,
          1988,
          2015,
          1925,
          1998,
          2014,
          1989,
          2017,
          2015,
          1990,
          2013,
          1988,
          1988,
          2011,
          1953,
          2016,
          2002,
          1985,
          2014,
          2010,
          2018,
          2017,
          1985,
          1969,
          2019,
          2016,
          2018,
          2015,
          2017,
          2018,
          2005,
          2018,
          null,
          2012,
          2015,
          2016,
          2016,
          2013,
          2018,
          1989,
          2008,
          2012,
          2002,
          2017,
          2019,
          2017,
          2020,
          2020,
          2020,
          2018,
          2019,
          2019,
          2017,
          2019,
          2019,
          2019,
          2020,
          1995,
          2019,
          2013,
          1990,
          1993,
          2017,
          1985,
          2016,
          2021,
          2020,
          2019,
          2016,
          2018,
          2018,
          1997,
          2017,
          2020,
          2019,
          2013,
          2020,
          2019,
          2019,
          2019,
          2019,
          2019,
          2020,
          2020,
          1988,
          2018,
          2018,
          2019,
          2020,
          2018,
          2018,
          2020,
          2020,
          2010,
          2017,
          2018,
          2015,
          2020,
          2019,
          2019,
          2020,
          2020,
          2020,
          2016,
          2020,
          2020,
          2019,
          2021,
          2020,
          2016,
          2019,
          2020,
          2018,
          2020,
          2005,
          2020,
          2020,
          2014,
          2019,
          2017,
          2013,
          2017,
          2019,
          2020,
          2020,
          2019,
          2016,
          2020,
          2020,
          2020,
          2020,
          2018,
          2018,
          2019,
          2019,
          2020,
          2019,
          2020,
          2018,
          2012,
          2018,
          2020,
          2010,
          1994,
          2020,
          2019,
          2022,
          2019,
          2019,
          2018,
          2020,
          2019,
          2020,
          2021,
          2020,
          2019,
          2020,
          2020,
          2021,
          2018,
          2021,
          2020,
          2021,
          2021,
          2020,
          2021,
          2014,
          2020,
          2021,
          2020,
          2019,
          2020,
          2021,
          2019,
          2020,
          2019,
          2020,
          2019,
          2018,
          2020,
          2019,
          2021,
          2015,
          2022,
          2021,
          2021,
          2020,
          2021,
          2021,
          2019,
          2021,
          2020,
          2021,
          2020,
          2019,
          2021,
          2021,
          2019,
          2020,
          2018,
          2021,
          2021,
          2019,
          2019,
          2015,
          2017,
          2010,
          2019,
          2019,
          2010,
          2018,
          2019,
          2017,
          2006,
          2020,
          2017,
          1993,
          2020,
          2016,
          2018,
          2020,
          2020,
          2020,
          2019,
          2020,
          2020,
          2021,
          2020,
          2017,
          2020,
          2019,
          2019,
          2019,
          2018,
          2021,
          2021,
          2015,
          1990,
          2020,
          2005,
          1934,
          2012,
          2016,
          2017,
          2020,
          2005,
          2019,
          2019,
          2020,
          2021,
          2021,
          2021,
          2021,
          2008,
          2019,
          2019,
          2020,
          2021,
          2021,
          2017,
          2017,
          1987,
          2020,
          2019,
          2019,
          2018,
          1999,
          2019,
          2017,
          2009,
          2021,
          2020,
          2022,
          2019,
          2018,
          2005,
          2019,
          2020,
          2020,
          2020,
          2012,
          2019,
          2020,
          2021,
          2015,
          2021,
          2018,
          2017,
          2019,
          2018,
          2020,
          2018,
          1980,
          2020,
          2019,
          2021,
          2016,
          2021,
          2021,
          1956,
          2020,
          2018,
          1996,
          1986,
          2021,
          2021,
          2021,
          2021,
          2021,
          2021,
          2021,
          2020,
          2019,
          2020,
          2021,
          2018,
          2020,
          2018,
          2021,
          2021,
          2019,
          2021,
          2020,
          2022,
          2021,
          2021,
          2021,
          2020,
          2022,
          2021,
          2020,
          2018,
          2018,
          2021,
          2017,
          2021,
          2019,
          2020,
          2021,
          2021,
          2019,
          2022,
          2020,
          2000,
          2020,
          2021,
          2020,
          2021,
          2018,
          2019,
          2019,
          2021,
          2022,
          2022,
          2020,
          2019,
          1979,
          2022,
          2021,
          2020,
          2021,
          2021,
          2017,
          2018,
          2001,
          2021,
          2009,
          2020,
          2014,
          2017,
          2014,
          2018,
          2008,
          2012,
          1996,
          2016,
          2014,
          2017,
          2016,
          2021,
          2017,
          2017,
          2016,
          2019,
          2012,
          2021,
          2020,
          2019,
          2021,
          2021,
          2020,
          2019,
          2021,
          2016,
          2021,
          2021,
          2022,
          2022,
          2021,
          2019,
          2020,
          2020,
          2018,
          2022,
          2022,
          2022,
          2021,
          2017,
          2021,
          2021,
          2022,
          2020,
          2021,
          2021,
          2021,
          2014,
          2020,
          2022,
          2020,
          2021,
          2022,
          2021,
          2021,
          2022,
          2020,
          2020,
          2022,
          2022,
          2021,
          2019,
          2020,
          2020,
          2021,
          2021,
          2020,
          2022,
          2021,
          1990,
          2020,
          2018,
          2016,
          2018,
          2018,
          2021,
          2015,
          2013,
          2019,
          2021,
          2016,
          2006,
          2021,
          2020,
          2020,
          2018,
          2019,
          2017,
          2018,
          2018,
          2016,
          2019,
          2018,
          2020,
          2019,
          2022,
          2020,
          2013,
          2008,
          2019,
          2020,
          2017,
          2014,
          2013,
          2018,
          2016,
          2022,
          1982,
          2017,
          2013,
          2011,
          2021,
          2020,
          2019,
          2016,
          2011,
          2015,
          2007,
          2019,
          2010,
          2011,
          2022,
          2017,
          2018,
          2016,
          1968,
          2017,
          2018,
          2016,
          2014,
          2018,
          2018,
          2017,
          2012,
          2016,
          2020,
          2010,
          2021,
          2019,
          2020,
          2022,
          2020,
          2020,
          2021,
          2022,
          2021,
          2022,
          2020,
          2018,
          2005,
          2022,
          2019,
          2021,
          2019,
          2013,
          2022,
          2021,
          2022,
          2017,
          2017,
          2021,
          2020,
          2019,
          2017,
          2022,
          2019,
          2022,
          2022,
          2020,
          2022,
          2020,
          2022,
          2021,
          2021,
          2022,
          2022,
          2020,
          2021,
          2021,
          2021,
          2020,
          2022,
          2021,
          2021,
          2018,
          2021,
          1992,
          2016,
          2020,
          2019,
          1994,
          2011,
          2022,
          2020,
          2021,
          2021,
          2022,
          2020,
          2018,
          2022,
          2015,
          2010,
          2017,
          2020,
          2011,
          2017,
          2017,
          2021,
          2019,
          2020,
          1980,
          2010,
          2011,
          2021,
          2022,
          2015,
          2016,
          2022,
          2021,
          2020,
          2021,
          2020,
          2020,
          2022,
          2022,
          2020,
          2021,
          2022,
          2008,
          2018,
          2018,
          2021,
          1996,
          2020,
          2020,
          2011,
          2021,
          2014,
          1980,
          2016,
          2018,
          2021,
          2021,
          2021,
          2020,
          2020,
          2011,
          1978,
          2018,
          1985,
          2016,
          2021,
          2021,
          2021,
          2022,
          2021,
          2023,
          1980,
          2020,
          2021,
          2022,
          2019,
          2015,
          2021,
          2022,
          2019,
          2022,
          2020,
          2019,
          2022,
          2018,
          2021,
          2017,
          2023,
          2022,
          2021,
          2019,
          2020,
          2022,
          2022,
          2021,
          2023,
          2019,
          2019,
          2016,
          2022,
          2022,
          2019,
          2022,
          2016,
          2021,
          2022,
          2023,
          1900,
          2022,
          2021,
          2017,
          2018,
          2011,
          2021,
          2019,
          2022,
          2017,
          2021,
          2019,
          2015,
          2021,
          2022,
          2022,
          2020,
          2019,
          2022,
          2019,
          2019,
          2021,
          2021,
          2023,
          2012,
          2022,
          2023,
          2017,
          2022,
          2022,
          2021,
          2016,
          2021,
          2019,
          2022,
          2021,
          2018,
          2022,
          2020,
          2018,
          2014,
          2023,
          2021,
          2021,
          2020,
          2018,
          2021,
          2020,
          2021,
          2017,
          2012,
          1978,
          1940,
          1983,
          2006,
          2000,
          2010,
          1932,
          2008,
          1968,
          2007,
          1978,
          2008,
          2015,
          1962,
          2014,
          1978,
          2013,
          1973,
          2014,
          1987,
          2016,
          1915,
          1987,
          1955,
          2001,
          2015,
          2012,
          2008,
          1960,
          1972,
          2009,
          2009,
          2011,
          1992,
          1986,
          2017,
          1976,
          1866,
          null,
          1929,
          1998,
          2001,
          1999,
          1993,
          1922,
          2017,
          2016,
          1954,
          1900,
          1908,
          2017,
          1977,
          2014,
          1927,
          1993,
          null,
          1941,
          1986,
          2009,
          1924,
          2013,
          2011,
          2012,
          2011,
          1951,
          2003,
          1996,
          1992,
          1995,
          1984,
          2013,
          2000,
          1995,
          1923,
          1998,
          1965,
          1982,
          1986,
          1989,
          2012,
          1957,
          1993,
          1960,
          1979,
          2006,
          2016,
          1995,
          2014,
          1988,
          1971,
          1970,
          1998,
          1979,
          1920,
          1999,
          1976,
          2021,
          1986,
          2017,
          1970,
          1957,
          1988,
          1928,
          1995,
          1834,
          2015,
          1985,
          1988,
          1990,
          1978,
          1960,
          1952,
          2006,
          2012,
          2010,
          1962,
          2014,
          2018,
          2005,
          1929,
          1989,
          1992,
          2015,
          1936,
          1860,
          2000,
          1970,
          2008,
          1914,
          1905,
          1974,
          null,
          1987,
          2001,
          2017,
          1990,
          2000,
          2013,
          1948,
          1982,
          1996,
          1977,
          2018,
          2017,
          1906,
          2008,
          1865,
          1903,
          1968,
          2020,
          1990,
          1991,
          2000,
          1946,
          2015,
          1974,
          2020,
          2020,
          2019,
          2005,
          2020,
          2014,
          2006,
          2015,
          2003,
          1978,
          1989,
          1994,
          1958,
          1983,
          1928,
          2006,
          1977,
          1978,
          2018,
          1949,
          2015,
          1954,
          1999,
          2000,
          2020,
          2017,
          2014,
          1926,
          1919,
          2019,
          2010,
          2012,
          2000,
          1978,
          2015,
          1920,
          1930,
          1925,
          2012,
          1990,
          1924,
          1962,
          2016,
          2016,
          2000,
          1854,
          2020,
          2015,
          2021,
          2018,
          null,
          2014,
          null,
          1986,
          2020,
          2017,
          2022,
          1993,
          2003,
          1972,
          2021,
          2013,
          2020,
          2020,
          2019,
          1902,
          2020,
          2021,
          1896,
          2018,
          1894,
          1998,
          2019,
          2018,
          2015,
          2018,
          2004,
          2015,
          2021,
          1995,
          2020,
          null,
          1980,
          null,
          2002,
          1989,
          1962,
          2008,
          1953,
          1949,
          2016,
          null,
          1984,
          2022,
          2020,
          2017,
          2021,
          1936,
          1953,
          null,
          2019,
          1668,
          2019,
          2020,
          1899,
          2021,
          1958,
          1752,
          2019,
          2020,
          2011,
          2018,
          2023,
          2020,
          2021,
          2021,
          null,
          2018,
          2022,
          2018,
          2022,
          2021,
          2022,
          2022,
          2022,
          2021,
          2021,
          2017,
          2020,
          2022,
          2021,
          2023,
          2020,
          2023,
          2023,
          2021,
          2022,
          1969,
          2004,
          2012,
          2014,
          2016,
          2016,
          2016,
          2017,
          2017,
          2017,
          2018,
          2018,
          2019,
          2019,
          2019,
          2019,
          2019,
          2019,
          2020,
          2020,
          2020,
          2020,
          2020,
          2020,
          2020,
          2020,
          2020,
          2020,
          2021,
          2021,
          2021,
          2021,
          2021,
          2021,
          2021,
          2021,
          2021,
          2021,
          2022,
          2022,
          2022,
          2021,
          2022,
          2022,
          2022,
          2022,
          2022,
          2022,
          2022,
          2023,
          2008,
          2022,
          2021,
          2021,
          1980,
          1987,
          1959,
          2022,
          2018,
          2019,
          2016,
          2015,
          2021,
          2021,
          2021,
          2020,
          2020,
          2018,
          2014,
          2010,
          1998,
          1969,
          2019,
          2021,
          2021,
          2020,
          2022,
          null,
          null,
          2022,
          2021,
          2023,
          2018,
          2020,
          2023,
          1979,
          1857,
          null,
          2023,
          1986,
          2012,
          2022,
          2022,
          2023,
          2023,
          2019,
          2012,
          null,
          1986,
          2018,
          2018,
          2021,
          2002,
          1924,
          2023,
          2022,
          2022,
          2015,
          2023,
          2013,
          2023,
          2019,
          2021,
          1955,
          null,
          2023,
          null,
          2021,
          null
         ],
         "xaxis": "x",
         "yaxis": "y"
        }
       ],
       "layout": {
        "barmode": "relative",
        "legend": {
         "tracegroupgap": 0
        },
        "template": {
         "data": {
          "bar": [
           {
            "error_x": {
             "color": "#2a3f5f"
            },
            "error_y": {
             "color": "#2a3f5f"
            },
            "marker": {
             "line": {
              "color": "#E5ECF6",
              "width": 0.5
             },
             "pattern": {
              "fillmode": "overlay",
              "size": 10,
              "solidity": 0.2
             }
            },
            "type": "bar"
           }
          ],
          "barpolar": [
           {
            "marker": {
             "line": {
              "color": "#E5ECF6",
              "width": 0.5
             },
             "pattern": {
              "fillmode": "overlay",
              "size": 10,
              "solidity": 0.2
             }
            },
            "type": "barpolar"
           }
          ],
          "carpet": [
           {
            "aaxis": {
             "endlinecolor": "#2a3f5f",
             "gridcolor": "white",
             "linecolor": "white",
             "minorgridcolor": "white",
             "startlinecolor": "#2a3f5f"
            },
            "baxis": {
             "endlinecolor": "#2a3f5f",
             "gridcolor": "white",
             "linecolor": "white",
             "minorgridcolor": "white",
             "startlinecolor": "#2a3f5f"
            },
            "type": "carpet"
           }
          ],
          "choropleth": [
           {
            "colorbar": {
             "outlinewidth": 0,
             "ticks": ""
            },
            "type": "choropleth"
           }
          ],
          "contour": [
           {
            "colorbar": {
             "outlinewidth": 0,
             "ticks": ""
            },
            "colorscale": [
             [
              0,
              "#0d0887"
             ],
             [
              0.1111111111111111,
              "#46039f"
             ],
             [
              0.2222222222222222,
              "#7201a8"
             ],
             [
              0.3333333333333333,
              "#9c179e"
             ],
             [
              0.4444444444444444,
              "#bd3786"
             ],
             [
              0.5555555555555556,
              "#d8576b"
             ],
             [
              0.6666666666666666,
              "#ed7953"
             ],
             [
              0.7777777777777778,
              "#fb9f3a"
             ],
             [
              0.8888888888888888,
              "#fdca26"
             ],
             [
              1,
              "#f0f921"
             ]
            ],
            "type": "contour"
           }
          ],
          "contourcarpet": [
           {
            "colorbar": {
             "outlinewidth": 0,
             "ticks": ""
            },
            "type": "contourcarpet"
           }
          ],
          "heatmap": [
           {
            "colorbar": {
             "outlinewidth": 0,
             "ticks": ""
            },
            "colorscale": [
             [
              0,
              "#0d0887"
             ],
             [
              0.1111111111111111,
              "#46039f"
             ],
             [
              0.2222222222222222,
              "#7201a8"
             ],
             [
              0.3333333333333333,
              "#9c179e"
             ],
             [
              0.4444444444444444,
              "#bd3786"
             ],
             [
              0.5555555555555556,
              "#d8576b"
             ],
             [
              0.6666666666666666,
              "#ed7953"
             ],
             [
              0.7777777777777778,
              "#fb9f3a"
             ],
             [
              0.8888888888888888,
              "#fdca26"
             ],
             [
              1,
              "#f0f921"
             ]
            ],
            "type": "heatmap"
           }
          ],
          "heatmapgl": [
           {
            "colorbar": {
             "outlinewidth": 0,
             "ticks": ""
            },
            "colorscale": [
             [
              0,
              "#0d0887"
             ],
             [
              0.1111111111111111,
              "#46039f"
             ],
             [
              0.2222222222222222,
              "#7201a8"
             ],
             [
              0.3333333333333333,
              "#9c179e"
             ],
             [
              0.4444444444444444,
              "#bd3786"
             ],
             [
              0.5555555555555556,
              "#d8576b"
             ],
             [
              0.6666666666666666,
              "#ed7953"
             ],
             [
              0.7777777777777778,
              "#fb9f3a"
             ],
             [
              0.8888888888888888,
              "#fdca26"
             ],
             [
              1,
              "#f0f921"
             ]
            ],
            "type": "heatmapgl"
           }
          ],
          "histogram": [
           {
            "marker": {
             "pattern": {
              "fillmode": "overlay",
              "size": 10,
              "solidity": 0.2
             }
            },
            "type": "histogram"
           }
          ],
          "histogram2d": [
           {
            "colorbar": {
             "outlinewidth": 0,
             "ticks": ""
            },
            "colorscale": [
             [
              0,
              "#0d0887"
             ],
             [
              0.1111111111111111,
              "#46039f"
             ],
             [
              0.2222222222222222,
              "#7201a8"
             ],
             [
              0.3333333333333333,
              "#9c179e"
             ],
             [
              0.4444444444444444,
              "#bd3786"
             ],
             [
              0.5555555555555556,
              "#d8576b"
             ],
             [
              0.6666666666666666,
              "#ed7953"
             ],
             [
              0.7777777777777778,
              "#fb9f3a"
             ],
             [
              0.8888888888888888,
              "#fdca26"
             ],
             [
              1,
              "#f0f921"
             ]
            ],
            "type": "histogram2d"
           }
          ],
          "histogram2dcontour": [
           {
            "colorbar": {
             "outlinewidth": 0,
             "ticks": ""
            },
            "colorscale": [
             [
              0,
              "#0d0887"
             ],
             [
              0.1111111111111111,
              "#46039f"
             ],
             [
              0.2222222222222222,
              "#7201a8"
             ],
             [
              0.3333333333333333,
              "#9c179e"
             ],
             [
              0.4444444444444444,
              "#bd3786"
             ],
             [
              0.5555555555555556,
              "#d8576b"
             ],
             [
              0.6666666666666666,
              "#ed7953"
             ],
             [
              0.7777777777777778,
              "#fb9f3a"
             ],
             [
              0.8888888888888888,
              "#fdca26"
             ],
             [
              1,
              "#f0f921"
             ]
            ],
            "type": "histogram2dcontour"
           }
          ],
          "mesh3d": [
           {
            "colorbar": {
             "outlinewidth": 0,
             "ticks": ""
            },
            "type": "mesh3d"
           }
          ],
          "parcoords": [
           {
            "line": {
             "colorbar": {
              "outlinewidth": 0,
              "ticks": ""
             }
            },
            "type": "parcoords"
           }
          ],
          "pie": [
           {
            "automargin": true,
            "type": "pie"
           }
          ],
          "scatter": [
           {
            "fillpattern": {
             "fillmode": "overlay",
             "size": 10,
             "solidity": 0.2
            },
            "type": "scatter"
           }
          ],
          "scatter3d": [
           {
            "line": {
             "colorbar": {
              "outlinewidth": 0,
              "ticks": ""
             }
            },
            "marker": {
             "colorbar": {
              "outlinewidth": 0,
              "ticks": ""
             }
            },
            "type": "scatter3d"
           }
          ],
          "scattercarpet": [
           {
            "marker": {
             "colorbar": {
              "outlinewidth": 0,
              "ticks": ""
             }
            },
            "type": "scattercarpet"
           }
          ],
          "scattergeo": [
           {
            "marker": {
             "colorbar": {
              "outlinewidth": 0,
              "ticks": ""
             }
            },
            "type": "scattergeo"
           }
          ],
          "scattergl": [
           {
            "marker": {
             "colorbar": {
              "outlinewidth": 0,
              "ticks": ""
             }
            },
            "type": "scattergl"
           }
          ],
          "scattermapbox": [
           {
            "marker": {
             "colorbar": {
              "outlinewidth": 0,
              "ticks": ""
             }
            },
            "type": "scattermapbox"
           }
          ],
          "scatterpolar": [
           {
            "marker": {
             "colorbar": {
              "outlinewidth": 0,
              "ticks": ""
             }
            },
            "type": "scatterpolar"
           }
          ],
          "scatterpolargl": [
           {
            "marker": {
             "colorbar": {
              "outlinewidth": 0,
              "ticks": ""
             }
            },
            "type": "scatterpolargl"
           }
          ],
          "scatterternary": [
           {
            "marker": {
             "colorbar": {
              "outlinewidth": 0,
              "ticks": ""
             }
            },
            "type": "scatterternary"
           }
          ],
          "surface": [
           {
            "colorbar": {
             "outlinewidth": 0,
             "ticks": ""
            },
            "colorscale": [
             [
              0,
              "#0d0887"
             ],
             [
              0.1111111111111111,
              "#46039f"
             ],
             [
              0.2222222222222222,
              "#7201a8"
             ],
             [
              0.3333333333333333,
              "#9c179e"
             ],
             [
              0.4444444444444444,
              "#bd3786"
             ],
             [
              0.5555555555555556,
              "#d8576b"
             ],
             [
              0.6666666666666666,
              "#ed7953"
             ],
             [
              0.7777777777777778,
              "#fb9f3a"
             ],
             [
              0.8888888888888888,
              "#fdca26"
             ],
             [
              1,
              "#f0f921"
             ]
            ],
            "type": "surface"
           }
          ],
          "table": [
           {
            "cells": {
             "fill": {
              "color": "#EBF0F8"
             },
             "line": {
              "color": "white"
             }
            },
            "header": {
             "fill": {
              "color": "#C8D4E3"
             },
             "line": {
              "color": "white"
             }
            },
            "type": "table"
           }
          ]
         },
         "layout": {
          "annotationdefaults": {
           "arrowcolor": "#2a3f5f",
           "arrowhead": 0,
           "arrowwidth": 1
          },
          "autotypenumbers": "strict",
          "coloraxis": {
           "colorbar": {
            "outlinewidth": 0,
            "ticks": ""
           }
          },
          "colorscale": {
           "diverging": [
            [
             0,
             "#8e0152"
            ],
            [
             0.1,
             "#c51b7d"
            ],
            [
             0.2,
             "#de77ae"
            ],
            [
             0.3,
             "#f1b6da"
            ],
            [
             0.4,
             "#fde0ef"
            ],
            [
             0.5,
             "#f7f7f7"
            ],
            [
             0.6,
             "#e6f5d0"
            ],
            [
             0.7,
             "#b8e186"
            ],
            [
             0.8,
             "#7fbc41"
            ],
            [
             0.9,
             "#4d9221"
            ],
            [
             1,
             "#276419"
            ]
           ],
           "sequential": [
            [
             0,
             "#0d0887"
            ],
            [
             0.1111111111111111,
             "#46039f"
            ],
            [
             0.2222222222222222,
             "#7201a8"
            ],
            [
             0.3333333333333333,
             "#9c179e"
            ],
            [
             0.4444444444444444,
             "#bd3786"
            ],
            [
             0.5555555555555556,
             "#d8576b"
            ],
            [
             0.6666666666666666,
             "#ed7953"
            ],
            [
             0.7777777777777778,
             "#fb9f3a"
            ],
            [
             0.8888888888888888,
             "#fdca26"
            ],
            [
             1,
             "#f0f921"
            ]
           ],
           "sequentialminus": [
            [
             0,
             "#0d0887"
            ],
            [
             0.1111111111111111,
             "#46039f"
            ],
            [
             0.2222222222222222,
             "#7201a8"
            ],
            [
             0.3333333333333333,
             "#9c179e"
            ],
            [
             0.4444444444444444,
             "#bd3786"
            ],
            [
             0.5555555555555556,
             "#d8576b"
            ],
            [
             0.6666666666666666,
             "#ed7953"
            ],
            [
             0.7777777777777778,
             "#fb9f3a"
            ],
            [
             0.8888888888888888,
             "#fdca26"
            ],
            [
             1,
             "#f0f921"
            ]
           ]
          },
          "colorway": [
           "#636efa",
           "#EF553B",
           "#00cc96",
           "#ab63fa",
           "#FFA15A",
           "#19d3f3",
           "#FF6692",
           "#B6E880",
           "#FF97FF",
           "#FECB52"
          ],
          "font": {
           "color": "#2a3f5f"
          },
          "geo": {
           "bgcolor": "white",
           "lakecolor": "white",
           "landcolor": "#E5ECF6",
           "showlakes": true,
           "showland": true,
           "subunitcolor": "white"
          },
          "hoverlabel": {
           "align": "left"
          },
          "hovermode": "closest",
          "mapbox": {
           "style": "light"
          },
          "paper_bgcolor": "white",
          "plot_bgcolor": "#E5ECF6",
          "polar": {
           "angularaxis": {
            "gridcolor": "white",
            "linecolor": "white",
            "ticks": ""
           },
           "bgcolor": "#E5ECF6",
           "radialaxis": {
            "gridcolor": "white",
            "linecolor": "white",
            "ticks": ""
           }
          },
          "scene": {
           "xaxis": {
            "backgroundcolor": "#E5ECF6",
            "gridcolor": "white",
            "gridwidth": 2,
            "linecolor": "white",
            "showbackground": true,
            "ticks": "",
            "zerolinecolor": "white"
           },
           "yaxis": {
            "backgroundcolor": "#E5ECF6",
            "gridcolor": "white",
            "gridwidth": 2,
            "linecolor": "white",
            "showbackground": true,
            "ticks": "",
            "zerolinecolor": "white"
           },
           "zaxis": {
            "backgroundcolor": "#E5ECF6",
            "gridcolor": "white",
            "gridwidth": 2,
            "linecolor": "white",
            "showbackground": true,
            "ticks": "",
            "zerolinecolor": "white"
           }
          },
          "shapedefaults": {
           "line": {
            "color": "#2a3f5f"
           }
          },
          "ternary": {
           "aaxis": {
            "gridcolor": "white",
            "linecolor": "white",
            "ticks": ""
           },
           "baxis": {
            "gridcolor": "white",
            "linecolor": "white",
            "ticks": ""
           },
           "bgcolor": "#E5ECF6",
           "caxis": {
            "gridcolor": "white",
            "linecolor": "white",
            "ticks": ""
           }
          },
          "title": {
           "x": 0.05
          },
          "xaxis": {
           "automargin": true,
           "gridcolor": "white",
           "linecolor": "white",
           "ticks": "",
           "title": {
            "standoff": 15
           },
           "zerolinecolor": "white",
           "zerolinewidth": 2
          },
          "yaxis": {
           "automargin": true,
           "gridcolor": "white",
           "linecolor": "white",
           "ticks": "",
           "title": {
            "standoff": 15
           },
           "zerolinecolor": "white",
           "zerolinewidth": 2
          }
         }
        },
        "title": {
         "text": "Creation of alt protein companies spiked after 2010"
        },
        "xaxis": {
         "anchor": "y",
         "domain": [
          0,
          1
         ],
         "title": {
          "text": ""
         }
        },
        "yaxis": {
         "anchor": "x",
         "domain": [
          0,
          1
         ],
         "title": {
          "text": "Number of Companies"
         }
        }
       }
      }
     },
     "metadata": {},
     "output_type": "display_data"
    }
   ],
   "source": [
    "fig = px.histogram(df, x=df['year_founded'], nbins=100, \n",
    "                   title='Creation of alt protein companies spiked after 2010',\n",
    "                   color_discrete_sequence=['gray'])\n",
    "fig.update_traces(marker=dict(line=dict(width=1, color='black'))) # show border of bins\n",
    "fig.update_yaxes(title='Number of Companies')\n",
    "fig.update_xaxes(title='')\n",
    "fig.show()"
   ]
  },
  {
   "cell_type": "code",
   "execution_count": 8,
   "metadata": {},
   "outputs": [
    {
     "data": {
      "application/vnd.plotly.v1+json": {
       "config": {
        "plotlyServerURL": "https://plot.ly"
       },
       "data": [
        {
         "alignmentgroup": "True",
         "bingroup": "x",
         "hovertemplate": "x=%{x}<br>count=%{y}<extra></extra>",
         "legendgroup": "",
         "marker": {
          "color": "gray",
          "line": {
           "color": "black",
           "width": 1
          },
          "pattern": {
           "shape": ""
          }
         },
         "name": "",
         "nbinsx": 25,
         "offsetgroup": "",
         "orientation": "v",
         "showlegend": false,
         "type": "histogram",
         "x": [
          2008,
          2017,
          2018,
          2015,
          2017,
          2017,
          2019,
          2019,
          2018,
          2020,
          1990,
          2019,
          2019,
          2019,
          2019,
          2018,
          2020,
          2018,
          2020,
          2018,
          2018,
          2015,
          1980,
          2017,
          2018,
          2017,
          2017,
          2018,
          2019,
          2019,
          2011,
          2011,
          2019,
          2018,
          2002,
          2015,
          2017,
          2019,
          2017,
          2015,
          2012,
          1979,
          2017,
          2019,
          2016,
          1993,
          2018,
          2018,
          2019,
          2000,
          2001,
          1994,
          1985,
          2019,
          2013,
          2014,
          1987,
          1980,
          2018,
          2019,
          2018,
          2019,
          2017,
          1980,
          2017,
          2014,
          2013,
          1996,
          1980,
          2018,
          2014,
          2016,
          2004,
          2019,
          2001,
          2013,
          2017,
          2019,
          2009,
          2014,
          2004,
          2017,
          2019,
          2016,
          2017,
          2019,
          2001,
          2019,
          2012,
          2016,
          2013,
          2015,
          2015,
          2018,
          2014,
          2019,
          1991,
          2009,
          2010,
          1981,
          2009,
          2015,
          2018,
          2012,
          2015,
          2016,
          2018,
          2012,
          2004,
          1978,
          2019,
          2011,
          2013,
          2014,
          2019,
          2019,
          2015,
          2016,
          2016,
          2016,
          2018,
          2016,
          1997,
          2015,
          2013,
          2012,
          2016,
          2019,
          2011,
          2015,
          1993,
          2019,
          2015,
          2014,
          2014,
          2017,
          2019,
          2010,
          1978,
          1988,
          2015,
          2011,
          2000,
          2010,
          2009,
          2016,
          2009,
          2016,
          2021,
          2019,
          1994,
          2015,
          2013,
          1980,
          2017,
          2017,
          2019,
          2015,
          1990,
          2015,
          2014,
          2004,
          2013,
          2006,
          2020,
          2013,
          2019,
          2016,
          2019,
          2015,
          2008,
          2015,
          2019,
          2008,
          2015,
          2013,
          2006,
          2012,
          2017,
          1988,
          2010,
          2016,
          2016,
          2016,
          2017,
          2017,
          2010,
          1998,
          2017,
          2011,
          2017,
          2018,
          2011,
          2018,
          1997,
          2017,
          2018,
          1985,
          2011,
          2013,
          2011,
          2006,
          2013,
          2013,
          2011,
          2018,
          2018,
          2016,
          1990,
          1999,
          2011,
          2009,
          2002,
          2016,
          2017,
          2017,
          2019,
          2017,
          2013,
          1979,
          2015,
          2015,
          1987,
          2014,
          2015,
          2014,
          2010,
          1995,
          2012,
          1993,
          2019,
          2018,
          2016,
          2019,
          2016,
          2015,
          1996,
          2018,
          2004,
          2010,
          1983,
          2014,
          2019,
          2018,
          2016,
          2020,
          2015,
          2013,
          2019,
          2019,
          2014,
          2018,
          2018,
          2017,
          2019,
          2014,
          2013,
          2003,
          1986,
          2015,
          2016,
          2017,
          1983,
          2016,
          1981,
          2019,
          2015,
          2019,
          2016,
          1974,
          1991,
          2012,
          2014,
          2016,
          2007,
          1994,
          1999,
          1990,
          2013,
          2012,
          2018,
          2013,
          2010,
          2016,
          2015,
          1981,
          2008,
          2015,
          1985,
          2014,
          2012,
          2017,
          2012,
          2014,
          2004,
          2015,
          1998,
          2014,
          1987,
          2016,
          1999,
          2016,
          2013,
          2008,
          2017,
          1991,
          2017,
          2019,
          2015,
          1985,
          2015,
          2011,
          2015,
          2017,
          1989,
          1999,
          2017,
          2015,
          2017,
          2018,
          2016,
          1991,
          2004,
          2015,
          2014,
          2012,
          2016,
          1999,
          2016,
          1997,
          1995,
          2010,
          1996,
          2004,
          2017,
          2017,
          1992,
          2012,
          2015,
          2008,
          1990,
          2009,
          2015,
          2013,
          1988,
          2015,
          1998,
          2014,
          1989,
          2017,
          2015,
          1990,
          2013,
          1988,
          1988,
          2011,
          2016,
          2002,
          1985,
          2014,
          2010,
          2018,
          2017,
          1985,
          2019,
          2016,
          2018,
          2015,
          2017,
          2018,
          2005,
          2018,
          2012,
          2015,
          2016,
          2016,
          2013,
          2018,
          1989,
          2008,
          2012,
          2002,
          2017,
          2019,
          2017,
          2020,
          2020,
          2020,
          2018,
          2019,
          2019,
          2017,
          2019,
          2019,
          2019,
          2020,
          1995,
          2019,
          2013,
          1990,
          1993,
          2017,
          1985,
          2016,
          2021,
          2020,
          2019,
          2016,
          2018,
          2018,
          1997,
          2017,
          2020,
          2019,
          2013,
          2020,
          2019,
          2019,
          2019,
          2019,
          2019,
          2020,
          2020,
          1988,
          2018,
          2018,
          2019,
          2020,
          2018,
          2018,
          2020,
          2020,
          2010,
          2017,
          2018,
          2015,
          2020,
          2019,
          2019,
          2020,
          2020,
          2020,
          2016,
          2020,
          2020,
          2019,
          2021,
          2020,
          2016,
          2019,
          2020,
          2018,
          2020,
          2005,
          2020,
          2020,
          2014,
          2019,
          2017,
          2013,
          2017,
          2019,
          2020,
          2020,
          2019,
          2016,
          2020,
          2020,
          2020,
          2020,
          2018,
          2018,
          2019,
          2019,
          2020,
          2019,
          2020,
          2018,
          2012,
          2018,
          2020,
          2010,
          1994,
          2020,
          2019,
          2022,
          2019,
          2019,
          2018,
          2020,
          2019,
          2020,
          2021,
          2020,
          2019,
          2020,
          2020,
          2021,
          2018,
          2021,
          2020,
          2021,
          2021,
          2020,
          2021,
          2014,
          2020,
          2021,
          2020,
          2019,
          2020,
          2021,
          2019,
          2020,
          2019,
          2020,
          2019,
          2018,
          2020,
          2019,
          2021,
          2015,
          2022,
          2021,
          2021,
          2020,
          2021,
          2021,
          2019,
          2021,
          2020,
          2021,
          2020,
          2019,
          2021,
          2021,
          2019,
          2020,
          2018,
          2021,
          2021,
          2019,
          2019,
          2015,
          2017,
          2010,
          2019,
          2019,
          2010,
          2018,
          2019,
          2017,
          2006,
          2020,
          2017,
          1993,
          2020,
          2016,
          2018,
          2020,
          2020,
          2020,
          2019,
          2020,
          2020,
          2021,
          2020,
          2017,
          2020,
          2019,
          2019,
          2019,
          2018,
          2021,
          2021,
          2015,
          1990,
          2020,
          2005,
          2012,
          2016,
          2017,
          2020,
          2005,
          2019,
          2019,
          2020,
          2021,
          2021,
          2021,
          2021,
          2008,
          2019,
          2019,
          2020,
          2021,
          2021,
          2017,
          2017,
          1987,
          2020,
          2019,
          2019,
          2018,
          1999,
          2019,
          2017,
          2009,
          2021,
          2020,
          2022,
          2019,
          2018,
          2005,
          2019,
          2020,
          2020,
          2020,
          2012,
          2019,
          2020,
          2021,
          2015,
          2021,
          2018,
          2017,
          2019,
          2018,
          2020,
          2018,
          1980,
          2020,
          2019,
          2021,
          2016,
          2021,
          2021,
          2020,
          2018,
          1996,
          1986,
          2021,
          2021,
          2021,
          2021,
          2021,
          2021,
          2021,
          2020,
          2019,
          2020,
          2021,
          2018,
          2020,
          2018,
          2021,
          2021,
          2019,
          2021,
          2020,
          2022,
          2021,
          2021,
          2021,
          2020,
          2022,
          2021,
          2020,
          2018,
          2018,
          2021,
          2017,
          2021,
          2019,
          2020,
          2021,
          2021,
          2019,
          2022,
          2020,
          2000,
          2020,
          2021,
          2020,
          2021,
          2018,
          2019,
          2019,
          2021,
          2022,
          2022,
          2020,
          2019,
          1979,
          2022,
          2021,
          2020,
          2021,
          2021,
          2017,
          2018,
          2001,
          2021,
          2009,
          2020,
          2014,
          2017,
          2014,
          2018,
          2008,
          2012,
          1996,
          2016,
          2014,
          2017,
          2016,
          2021,
          2017,
          2017,
          2016,
          2019,
          2012,
          2021,
          2020,
          2019,
          2021,
          2021,
          2020,
          2019,
          2021,
          2016,
          2021,
          2021,
          2022,
          2022,
          2021,
          2019,
          2020,
          2020,
          2018,
          2022,
          2022,
          2022,
          2021,
          2017,
          2021,
          2021,
          2022,
          2020,
          2021,
          2021,
          2021,
          2014,
          2020,
          2022,
          2020,
          2021,
          2022,
          2021,
          2021,
          2022,
          2020,
          2020,
          2022,
          2022,
          2021,
          2019,
          2020,
          2020,
          2021,
          2021,
          2020,
          2022,
          2021,
          1990,
          2020,
          2018,
          2016,
          2018,
          2018,
          2021,
          2015,
          2013,
          2019,
          2021,
          2016,
          2006,
          2021,
          2020,
          2020,
          2018,
          2019,
          2017,
          2018,
          2018,
          2016,
          2019,
          2018,
          2020,
          2019,
          2022,
          2020,
          2013,
          2008,
          2019,
          2020,
          2017,
          2014,
          2013,
          2018,
          2016,
          2022,
          1982,
          2017,
          2013,
          2011,
          2021,
          2020,
          2019,
          2016,
          2011,
          2015,
          2007,
          2019,
          2010,
          2011,
          2022,
          2017,
          2018,
          2016,
          2017,
          2018,
          2016,
          2014,
          2018,
          2018,
          2017,
          2012,
          2016,
          2020,
          2010,
          2021,
          2019,
          2020,
          2022,
          2020,
          2020,
          2021,
          2022,
          2021,
          2022,
          2020,
          2018,
          2005,
          2022,
          2019,
          2021,
          2019,
          2013,
          2022,
          2021,
          2022,
          2017,
          2017,
          2021,
          2020,
          2019,
          2017,
          2022,
          2019,
          2022,
          2022,
          2020,
          2022,
          2020,
          2022,
          2021,
          2021,
          2022,
          2022,
          2020,
          2021,
          2021,
          2021,
          2020,
          2022,
          2021,
          2021,
          2018,
          2021,
          1992,
          2016,
          2020,
          2019,
          1994,
          2011,
          2022,
          2020,
          2021,
          2021,
          2022,
          2020,
          2018,
          2022,
          2015,
          2010,
          2017,
          2020,
          2011,
          2017,
          2017,
          2021,
          2019,
          2020,
          1980,
          2010,
          2011,
          2021,
          2022,
          2015,
          2016,
          2022,
          2021,
          2020,
          2021,
          2020,
          2020,
          2022,
          2022,
          2020,
          2021,
          2022,
          2008,
          2018,
          2018,
          2021,
          1996,
          2020,
          2020,
          2011,
          2021,
          2014,
          1980,
          2016,
          2018,
          2021,
          2021,
          2021,
          2020,
          2020,
          2011,
          1978,
          2018,
          1985,
          2016,
          2021,
          2021,
          2021,
          2022,
          2021,
          2023,
          1980,
          2020,
          2021,
          2022,
          2019,
          2015,
          2021,
          2022,
          2019,
          2022,
          2020,
          2019,
          2022,
          2018,
          2021,
          2017,
          2023,
          2022,
          2021,
          2019,
          2020,
          2022,
          2022,
          2021,
          2023,
          2019,
          2019,
          2016,
          2022,
          2022,
          2019,
          2022,
          2016,
          2021,
          2022,
          2023,
          2022,
          2021,
          2017,
          2018,
          2011,
          2021,
          2019,
          2022,
          2017,
          2021,
          2019,
          2015,
          2021,
          2022,
          2022,
          2020,
          2019,
          2022,
          2019,
          2019,
          2021,
          2021,
          2023,
          2012,
          2022,
          2023,
          2017,
          2022,
          2022,
          2021,
          2016,
          2021,
          2019,
          2022,
          2021,
          2018,
          2022,
          2020,
          2018,
          2014,
          2023,
          2021,
          2021,
          2020,
          2018,
          2021,
          2020,
          2021,
          2017,
          2012,
          1978,
          1983,
          2006,
          2000,
          2010,
          2008,
          2007,
          1978,
          2008,
          2015,
          2014,
          1978,
          2013,
          1973,
          2014,
          1987,
          2016,
          1987,
          2001,
          2015,
          2012,
          2008,
          1972,
          2009,
          2009,
          2011,
          1992,
          1986,
          2017,
          1976,
          1998,
          2001,
          1999,
          1993,
          2017,
          2016,
          2017,
          1977,
          2014,
          1993,
          1986,
          2009,
          2013,
          2011,
          2012,
          2011,
          2003,
          1996,
          1992,
          1995,
          1984,
          2013,
          2000,
          1995,
          1998,
          1982,
          1986,
          1989,
          2012,
          1993,
          1979,
          2006,
          2016,
          1995,
          2014,
          1988,
          1971,
          1998,
          1979,
          1999,
          1976,
          2021,
          1986,
          2017,
          1988,
          1995,
          2015,
          1985,
          1988,
          1990,
          1978,
          2006,
          2012,
          2010,
          2014,
          2018,
          2005,
          1989,
          1992,
          2015,
          2000,
          2008,
          1974,
          1987,
          2001,
          2017,
          1990,
          2000,
          2013,
          1982,
          1996,
          1977,
          2018,
          2017,
          2008,
          2020,
          1990,
          1991,
          2000,
          2015,
          1974,
          2020,
          2020,
          2019,
          2005,
          2020,
          2014,
          2006,
          2015,
          2003,
          1978,
          1989,
          1994,
          1983,
          2006,
          1977,
          1978,
          2018,
          2015,
          1999,
          2000,
          2020,
          2017,
          2014,
          2019,
          2010,
          2012,
          2000,
          1978,
          2015,
          2012,
          1990,
          2016,
          2016,
          2000,
          2020,
          2015,
          2021,
          2018,
          2014,
          1986,
          2020,
          2017,
          2022,
          1993,
          2003,
          1972,
          2021,
          2013,
          2020,
          2020,
          2019,
          2020,
          2021,
          2018,
          1998,
          2019,
          2018,
          2015,
          2018,
          2004,
          2015,
          2021,
          1995,
          2020,
          1980,
          2002,
          1989,
          2008,
          2016,
          1984,
          2022,
          2020,
          2017,
          2021,
          2019,
          2019,
          2020,
          2021,
          2019,
          2020,
          2011,
          2018,
          2023,
          2020,
          2021,
          2021,
          2018,
          2022,
          2018,
          2022,
          2021,
          2022,
          2022,
          2022,
          2021,
          2021,
          2017,
          2020,
          2022,
          2021,
          2023,
          2020,
          2023,
          2023,
          2021,
          2022,
          2004,
          2012,
          2014,
          2016,
          2016,
          2016,
          2017,
          2017,
          2017,
          2018,
          2018,
          2019,
          2019,
          2019,
          2019,
          2019,
          2019,
          2020,
          2020,
          2020,
          2020,
          2020,
          2020,
          2020,
          2020,
          2020,
          2020,
          2021,
          2021,
          2021,
          2021,
          2021,
          2021,
          2021,
          2021,
          2021,
          2021,
          2022,
          2022,
          2022,
          2021,
          2022,
          2022,
          2022,
          2022,
          2022,
          2022,
          2022,
          2023,
          2008,
          2022,
          2021,
          2021,
          1980,
          1987,
          2022,
          2018,
          2019,
          2016,
          2015,
          2021,
          2021,
          2021,
          2020,
          2020,
          2018,
          2014,
          2010,
          1998,
          2019,
          2021,
          2021,
          2020,
          2022,
          2022,
          2021,
          2023,
          2018,
          2020,
          2023,
          1979,
          2023,
          1986,
          2012,
          2022,
          2022,
          2023,
          2023,
          2019,
          2012,
          1986,
          2018,
          2018,
          2021,
          2002,
          2023,
          2022,
          2022,
          2015,
          2023,
          2013,
          2023,
          2019,
          2021,
          2023,
          2021
         ],
         "xaxis": "x",
         "yaxis": "y"
        }
       ],
       "layout": {
        "barmode": "relative",
        "legend": {
         "tracegroupgap": 0
        },
        "margin": {
         "t": 60
        },
        "shapes": [
         {
          "line": {
           "color": "red",
           "width": 2
          },
          "type": "line",
          "x0": 2009.5,
          "x1": 2009.5,
          "y0": 0,
          "y1": 600
         }
        ],
        "template": {
         "data": {
          "bar": [
           {
            "error_x": {
             "color": "#2a3f5f"
            },
            "error_y": {
             "color": "#2a3f5f"
            },
            "marker": {
             "line": {
              "color": "#E5ECF6",
              "width": 0.5
             },
             "pattern": {
              "fillmode": "overlay",
              "size": 10,
              "solidity": 0.2
             }
            },
            "type": "bar"
           }
          ],
          "barpolar": [
           {
            "marker": {
             "line": {
              "color": "#E5ECF6",
              "width": 0.5
             },
             "pattern": {
              "fillmode": "overlay",
              "size": 10,
              "solidity": 0.2
             }
            },
            "type": "barpolar"
           }
          ],
          "carpet": [
           {
            "aaxis": {
             "endlinecolor": "#2a3f5f",
             "gridcolor": "white",
             "linecolor": "white",
             "minorgridcolor": "white",
             "startlinecolor": "#2a3f5f"
            },
            "baxis": {
             "endlinecolor": "#2a3f5f",
             "gridcolor": "white",
             "linecolor": "white",
             "minorgridcolor": "white",
             "startlinecolor": "#2a3f5f"
            },
            "type": "carpet"
           }
          ],
          "choropleth": [
           {
            "colorbar": {
             "outlinewidth": 0,
             "ticks": ""
            },
            "type": "choropleth"
           }
          ],
          "contour": [
           {
            "colorbar": {
             "outlinewidth": 0,
             "ticks": ""
            },
            "colorscale": [
             [
              0,
              "#0d0887"
             ],
             [
              0.1111111111111111,
              "#46039f"
             ],
             [
              0.2222222222222222,
              "#7201a8"
             ],
             [
              0.3333333333333333,
              "#9c179e"
             ],
             [
              0.4444444444444444,
              "#bd3786"
             ],
             [
              0.5555555555555556,
              "#d8576b"
             ],
             [
              0.6666666666666666,
              "#ed7953"
             ],
             [
              0.7777777777777778,
              "#fb9f3a"
             ],
             [
              0.8888888888888888,
              "#fdca26"
             ],
             [
              1,
              "#f0f921"
             ]
            ],
            "type": "contour"
           }
          ],
          "contourcarpet": [
           {
            "colorbar": {
             "outlinewidth": 0,
             "ticks": ""
            },
            "type": "contourcarpet"
           }
          ],
          "heatmap": [
           {
            "colorbar": {
             "outlinewidth": 0,
             "ticks": ""
            },
            "colorscale": [
             [
              0,
              "#0d0887"
             ],
             [
              0.1111111111111111,
              "#46039f"
             ],
             [
              0.2222222222222222,
              "#7201a8"
             ],
             [
              0.3333333333333333,
              "#9c179e"
             ],
             [
              0.4444444444444444,
              "#bd3786"
             ],
             [
              0.5555555555555556,
              "#d8576b"
             ],
             [
              0.6666666666666666,
              "#ed7953"
             ],
             [
              0.7777777777777778,
              "#fb9f3a"
             ],
             [
              0.8888888888888888,
              "#fdca26"
             ],
             [
              1,
              "#f0f921"
             ]
            ],
            "type": "heatmap"
           }
          ],
          "heatmapgl": [
           {
            "colorbar": {
             "outlinewidth": 0,
             "ticks": ""
            },
            "colorscale": [
             [
              0,
              "#0d0887"
             ],
             [
              0.1111111111111111,
              "#46039f"
             ],
             [
              0.2222222222222222,
              "#7201a8"
             ],
             [
              0.3333333333333333,
              "#9c179e"
             ],
             [
              0.4444444444444444,
              "#bd3786"
             ],
             [
              0.5555555555555556,
              "#d8576b"
             ],
             [
              0.6666666666666666,
              "#ed7953"
             ],
             [
              0.7777777777777778,
              "#fb9f3a"
             ],
             [
              0.8888888888888888,
              "#fdca26"
             ],
             [
              1,
              "#f0f921"
             ]
            ],
            "type": "heatmapgl"
           }
          ],
          "histogram": [
           {
            "marker": {
             "pattern": {
              "fillmode": "overlay",
              "size": 10,
              "solidity": 0.2
             }
            },
            "type": "histogram"
           }
          ],
          "histogram2d": [
           {
            "colorbar": {
             "outlinewidth": 0,
             "ticks": ""
            },
            "colorscale": [
             [
              0,
              "#0d0887"
             ],
             [
              0.1111111111111111,
              "#46039f"
             ],
             [
              0.2222222222222222,
              "#7201a8"
             ],
             [
              0.3333333333333333,
              "#9c179e"
             ],
             [
              0.4444444444444444,
              "#bd3786"
             ],
             [
              0.5555555555555556,
              "#d8576b"
             ],
             [
              0.6666666666666666,
              "#ed7953"
             ],
             [
              0.7777777777777778,
              "#fb9f3a"
             ],
             [
              0.8888888888888888,
              "#fdca26"
             ],
             [
              1,
              "#f0f921"
             ]
            ],
            "type": "histogram2d"
           }
          ],
          "histogram2dcontour": [
           {
            "colorbar": {
             "outlinewidth": 0,
             "ticks": ""
            },
            "colorscale": [
             [
              0,
              "#0d0887"
             ],
             [
              0.1111111111111111,
              "#46039f"
             ],
             [
              0.2222222222222222,
              "#7201a8"
             ],
             [
              0.3333333333333333,
              "#9c179e"
             ],
             [
              0.4444444444444444,
              "#bd3786"
             ],
             [
              0.5555555555555556,
              "#d8576b"
             ],
             [
              0.6666666666666666,
              "#ed7953"
             ],
             [
              0.7777777777777778,
              "#fb9f3a"
             ],
             [
              0.8888888888888888,
              "#fdca26"
             ],
             [
              1,
              "#f0f921"
             ]
            ],
            "type": "histogram2dcontour"
           }
          ],
          "mesh3d": [
           {
            "colorbar": {
             "outlinewidth": 0,
             "ticks": ""
            },
            "type": "mesh3d"
           }
          ],
          "parcoords": [
           {
            "line": {
             "colorbar": {
              "outlinewidth": 0,
              "ticks": ""
             }
            },
            "type": "parcoords"
           }
          ],
          "pie": [
           {
            "automargin": true,
            "type": "pie"
           }
          ],
          "scatter": [
           {
            "fillpattern": {
             "fillmode": "overlay",
             "size": 10,
             "solidity": 0.2
            },
            "type": "scatter"
           }
          ],
          "scatter3d": [
           {
            "line": {
             "colorbar": {
              "outlinewidth": 0,
              "ticks": ""
             }
            },
            "marker": {
             "colorbar": {
              "outlinewidth": 0,
              "ticks": ""
             }
            },
            "type": "scatter3d"
           }
          ],
          "scattercarpet": [
           {
            "marker": {
             "colorbar": {
              "outlinewidth": 0,
              "ticks": ""
             }
            },
            "type": "scattercarpet"
           }
          ],
          "scattergeo": [
           {
            "marker": {
             "colorbar": {
              "outlinewidth": 0,
              "ticks": ""
             }
            },
            "type": "scattergeo"
           }
          ],
          "scattergl": [
           {
            "marker": {
             "colorbar": {
              "outlinewidth": 0,
              "ticks": ""
             }
            },
            "type": "scattergl"
           }
          ],
          "scattermapbox": [
           {
            "marker": {
             "colorbar": {
              "outlinewidth": 0,
              "ticks": ""
             }
            },
            "type": "scattermapbox"
           }
          ],
          "scatterpolar": [
           {
            "marker": {
             "colorbar": {
              "outlinewidth": 0,
              "ticks": ""
             }
            },
            "type": "scatterpolar"
           }
          ],
          "scatterpolargl": [
           {
            "marker": {
             "colorbar": {
              "outlinewidth": 0,
              "ticks": ""
             }
            },
            "type": "scatterpolargl"
           }
          ],
          "scatterternary": [
           {
            "marker": {
             "colorbar": {
              "outlinewidth": 0,
              "ticks": ""
             }
            },
            "type": "scatterternary"
           }
          ],
          "surface": [
           {
            "colorbar": {
             "outlinewidth": 0,
             "ticks": ""
            },
            "colorscale": [
             [
              0,
              "#0d0887"
             ],
             [
              0.1111111111111111,
              "#46039f"
             ],
             [
              0.2222222222222222,
              "#7201a8"
             ],
             [
              0.3333333333333333,
              "#9c179e"
             ],
             [
              0.4444444444444444,
              "#bd3786"
             ],
             [
              0.5555555555555556,
              "#d8576b"
             ],
             [
              0.6666666666666666,
              "#ed7953"
             ],
             [
              0.7777777777777778,
              "#fb9f3a"
             ],
             [
              0.8888888888888888,
              "#fdca26"
             ],
             [
              1,
              "#f0f921"
             ]
            ],
            "type": "surface"
           }
          ],
          "table": [
           {
            "cells": {
             "fill": {
              "color": "#EBF0F8"
             },
             "line": {
              "color": "white"
             }
            },
            "header": {
             "fill": {
              "color": "#C8D4E3"
             },
             "line": {
              "color": "white"
             }
            },
            "type": "table"
           }
          ]
         },
         "layout": {
          "annotationdefaults": {
           "arrowcolor": "#2a3f5f",
           "arrowhead": 0,
           "arrowwidth": 1
          },
          "autotypenumbers": "strict",
          "coloraxis": {
           "colorbar": {
            "outlinewidth": 0,
            "ticks": ""
           }
          },
          "colorscale": {
           "diverging": [
            [
             0,
             "#8e0152"
            ],
            [
             0.1,
             "#c51b7d"
            ],
            [
             0.2,
             "#de77ae"
            ],
            [
             0.3,
             "#f1b6da"
            ],
            [
             0.4,
             "#fde0ef"
            ],
            [
             0.5,
             "#f7f7f7"
            ],
            [
             0.6,
             "#e6f5d0"
            ],
            [
             0.7,
             "#b8e186"
            ],
            [
             0.8,
             "#7fbc41"
            ],
            [
             0.9,
             "#4d9221"
            ],
            [
             1,
             "#276419"
            ]
           ],
           "sequential": [
            [
             0,
             "#0d0887"
            ],
            [
             0.1111111111111111,
             "#46039f"
            ],
            [
             0.2222222222222222,
             "#7201a8"
            ],
            [
             0.3333333333333333,
             "#9c179e"
            ],
            [
             0.4444444444444444,
             "#bd3786"
            ],
            [
             0.5555555555555556,
             "#d8576b"
            ],
            [
             0.6666666666666666,
             "#ed7953"
            ],
            [
             0.7777777777777778,
             "#fb9f3a"
            ],
            [
             0.8888888888888888,
             "#fdca26"
            ],
            [
             1,
             "#f0f921"
            ]
           ],
           "sequentialminus": [
            [
             0,
             "#0d0887"
            ],
            [
             0.1111111111111111,
             "#46039f"
            ],
            [
             0.2222222222222222,
             "#7201a8"
            ],
            [
             0.3333333333333333,
             "#9c179e"
            ],
            [
             0.4444444444444444,
             "#bd3786"
            ],
            [
             0.5555555555555556,
             "#d8576b"
            ],
            [
             0.6666666666666666,
             "#ed7953"
            ],
            [
             0.7777777777777778,
             "#fb9f3a"
            ],
            [
             0.8888888888888888,
             "#fdca26"
            ],
            [
             1,
             "#f0f921"
            ]
           ]
          },
          "colorway": [
           "#636efa",
           "#EF553B",
           "#00cc96",
           "#ab63fa",
           "#FFA15A",
           "#19d3f3",
           "#FF6692",
           "#B6E880",
           "#FF97FF",
           "#FECB52"
          ],
          "font": {
           "color": "#2a3f5f"
          },
          "geo": {
           "bgcolor": "white",
           "lakecolor": "white",
           "landcolor": "#E5ECF6",
           "showlakes": true,
           "showland": true,
           "subunitcolor": "white"
          },
          "hoverlabel": {
           "align": "left"
          },
          "hovermode": "closest",
          "mapbox": {
           "style": "light"
          },
          "paper_bgcolor": "white",
          "plot_bgcolor": "#E5ECF6",
          "polar": {
           "angularaxis": {
            "gridcolor": "white",
            "linecolor": "white",
            "ticks": ""
           },
           "bgcolor": "#E5ECF6",
           "radialaxis": {
            "gridcolor": "white",
            "linecolor": "white",
            "ticks": ""
           }
          },
          "scene": {
           "xaxis": {
            "backgroundcolor": "#E5ECF6",
            "gridcolor": "white",
            "gridwidth": 2,
            "linecolor": "white",
            "showbackground": true,
            "ticks": "",
            "zerolinecolor": "white"
           },
           "yaxis": {
            "backgroundcolor": "#E5ECF6",
            "gridcolor": "white",
            "gridwidth": 2,
            "linecolor": "white",
            "showbackground": true,
            "ticks": "",
            "zerolinecolor": "white"
           },
           "zaxis": {
            "backgroundcolor": "#E5ECF6",
            "gridcolor": "white",
            "gridwidth": 2,
            "linecolor": "white",
            "showbackground": true,
            "ticks": "",
            "zerolinecolor": "white"
           }
          },
          "shapedefaults": {
           "line": {
            "color": "#2a3f5f"
           }
          },
          "ternary": {
           "aaxis": {
            "gridcolor": "white",
            "linecolor": "white",
            "ticks": ""
           },
           "baxis": {
            "gridcolor": "white",
            "linecolor": "white",
            "ticks": ""
           },
           "bgcolor": "#E5ECF6",
           "caxis": {
            "gridcolor": "white",
            "linecolor": "white",
            "ticks": ""
           }
          },
          "title": {
           "x": 0.05
          },
          "xaxis": {
           "automargin": true,
           "gridcolor": "white",
           "linecolor": "white",
           "ticks": "",
           "title": {
            "standoff": 15
           },
           "zerolinecolor": "white",
           "zerolinewidth": 2
          },
          "yaxis": {
           "automargin": true,
           "gridcolor": "white",
           "linecolor": "white",
           "ticks": "",
           "title": {
            "standoff": 15
           },
           "zerolinecolor": "white",
           "zerolinewidth": 2
          }
         }
        },
        "title": {
         "font": {
          "size": 30
         },
         "text": "Creation of alt protein companies spiked after 2010"
        },
        "xaxis": {
         "anchor": "y",
         "domain": [
          0,
          1
         ],
         "title": {
          "text": ""
         }
        },
        "yaxis": {
         "anchor": "x",
         "domain": [
          0,
          1
         ],
         "title": {
          "text": "Number of Companies"
         }
        }
       }
      }
     },
     "metadata": {},
     "output_type": "display_data"
    }
   ],
   "source": [
    "fig = px.histogram(df, x=df[df['year_founded'] > 1970]['year_founded'], nbins=25,\n",
    "                   color_discrete_sequence=['gray'])\n",
    "fig.update_traces(marker=dict(line=dict(width=1, color='black'))) # show border of bins\n",
    "fig.update_yaxes(title='Number of Companies')\n",
    "fig.update_xaxes(title='',)\n",
    "\n",
    "# Vertical line\n",
    "fig.add_shape(\n",
    "    go.layout.Shape(\n",
    "        type=\"line\",\n",
    "        x0=2009.5,\n",
    "        x1=2009.5,\n",
    "        y0=0,\n",
    "        y1=600,  # Adjust height of the histogram\n",
    "        line=dict(color=\"red\", width=2)\n",
    "    )\n",
    ")\n",
    "\n",
    "fig.update_layout(\n",
    "    title='Creation of alt protein companies spiked after 2010',\n",
    "    title_font=dict(size=30)\n",
    ")\n",
    "\n",
    "fig.show()"
   ]
  },
  {
   "cell_type": "markdown",
   "metadata": {},
   "source": [
    "- There appears to be companies founded before 1900. These dates are not verified so they are considered outliers."
   ]
  },
  {
   "cell_type": "code",
   "execution_count": 9,
   "metadata": {},
   "outputs": [
    {
     "data": {
      "application/vnd.plotly.v1+json": {
       "config": {
        "plotlyServerURL": "https://plot.ly"
       },
       "data": [
        {
         "cells": {
          "align": [
           "center",
           "center",
           "left"
          ],
          "values": [
           [
            1668,
            1752,
            1765
           ],
           [
            "MilliporeSigma",
            "Soy Austria",
            "Wessanen (Ecotone)"
           ],
           [
            "US-based life science industry supplier with offerings for cultivated protein, such as animal-free serum, cell lines, and equipment.",
            "Soy Austria produces natural, sustainable, soy-based, GMO-free ingredients for the global food industry. The production is based on quality standards according to the highest European standards, and only European soybeans are used.",
            "Maker of dairy alternative and vegetarian meals with several brands, all of which use a variety of diverse ingredients"
           ]
          ]
         },
         "columnwidth": [
          200,
          200,
          800
         ],
         "header": {
          "values": [
           "Year Founded",
           "Company Name",
           "What does it do?"
          ]
         },
         "type": "table"
        }
       ],
       "layout": {
        "height": 300,
        "margin": {
         "b": 0,
         "l": 0,
         "r": 0,
         "t": 30
        },
        "template": {
         "data": {
          "bar": [
           {
            "error_x": {
             "color": "#2a3f5f"
            },
            "error_y": {
             "color": "#2a3f5f"
            },
            "marker": {
             "line": {
              "color": "#E5ECF6",
              "width": 0.5
             },
             "pattern": {
              "fillmode": "overlay",
              "size": 10,
              "solidity": 0.2
             }
            },
            "type": "bar"
           }
          ],
          "barpolar": [
           {
            "marker": {
             "line": {
              "color": "#E5ECF6",
              "width": 0.5
             },
             "pattern": {
              "fillmode": "overlay",
              "size": 10,
              "solidity": 0.2
             }
            },
            "type": "barpolar"
           }
          ],
          "carpet": [
           {
            "aaxis": {
             "endlinecolor": "#2a3f5f",
             "gridcolor": "white",
             "linecolor": "white",
             "minorgridcolor": "white",
             "startlinecolor": "#2a3f5f"
            },
            "baxis": {
             "endlinecolor": "#2a3f5f",
             "gridcolor": "white",
             "linecolor": "white",
             "minorgridcolor": "white",
             "startlinecolor": "#2a3f5f"
            },
            "type": "carpet"
           }
          ],
          "choropleth": [
           {
            "colorbar": {
             "outlinewidth": 0,
             "ticks": ""
            },
            "type": "choropleth"
           }
          ],
          "contour": [
           {
            "colorbar": {
             "outlinewidth": 0,
             "ticks": ""
            },
            "colorscale": [
             [
              0,
              "#0d0887"
             ],
             [
              0.1111111111111111,
              "#46039f"
             ],
             [
              0.2222222222222222,
              "#7201a8"
             ],
             [
              0.3333333333333333,
              "#9c179e"
             ],
             [
              0.4444444444444444,
              "#bd3786"
             ],
             [
              0.5555555555555556,
              "#d8576b"
             ],
             [
              0.6666666666666666,
              "#ed7953"
             ],
             [
              0.7777777777777778,
              "#fb9f3a"
             ],
             [
              0.8888888888888888,
              "#fdca26"
             ],
             [
              1,
              "#f0f921"
             ]
            ],
            "type": "contour"
           }
          ],
          "contourcarpet": [
           {
            "colorbar": {
             "outlinewidth": 0,
             "ticks": ""
            },
            "type": "contourcarpet"
           }
          ],
          "heatmap": [
           {
            "colorbar": {
             "outlinewidth": 0,
             "ticks": ""
            },
            "colorscale": [
             [
              0,
              "#0d0887"
             ],
             [
              0.1111111111111111,
              "#46039f"
             ],
             [
              0.2222222222222222,
              "#7201a8"
             ],
             [
              0.3333333333333333,
              "#9c179e"
             ],
             [
              0.4444444444444444,
              "#bd3786"
             ],
             [
              0.5555555555555556,
              "#d8576b"
             ],
             [
              0.6666666666666666,
              "#ed7953"
             ],
             [
              0.7777777777777778,
              "#fb9f3a"
             ],
             [
              0.8888888888888888,
              "#fdca26"
             ],
             [
              1,
              "#f0f921"
             ]
            ],
            "type": "heatmap"
           }
          ],
          "heatmapgl": [
           {
            "colorbar": {
             "outlinewidth": 0,
             "ticks": ""
            },
            "colorscale": [
             [
              0,
              "#0d0887"
             ],
             [
              0.1111111111111111,
              "#46039f"
             ],
             [
              0.2222222222222222,
              "#7201a8"
             ],
             [
              0.3333333333333333,
              "#9c179e"
             ],
             [
              0.4444444444444444,
              "#bd3786"
             ],
             [
              0.5555555555555556,
              "#d8576b"
             ],
             [
              0.6666666666666666,
              "#ed7953"
             ],
             [
              0.7777777777777778,
              "#fb9f3a"
             ],
             [
              0.8888888888888888,
              "#fdca26"
             ],
             [
              1,
              "#f0f921"
             ]
            ],
            "type": "heatmapgl"
           }
          ],
          "histogram": [
           {
            "marker": {
             "pattern": {
              "fillmode": "overlay",
              "size": 10,
              "solidity": 0.2
             }
            },
            "type": "histogram"
           }
          ],
          "histogram2d": [
           {
            "colorbar": {
             "outlinewidth": 0,
             "ticks": ""
            },
            "colorscale": [
             [
              0,
              "#0d0887"
             ],
             [
              0.1111111111111111,
              "#46039f"
             ],
             [
              0.2222222222222222,
              "#7201a8"
             ],
             [
              0.3333333333333333,
              "#9c179e"
             ],
             [
              0.4444444444444444,
              "#bd3786"
             ],
             [
              0.5555555555555556,
              "#d8576b"
             ],
             [
              0.6666666666666666,
              "#ed7953"
             ],
             [
              0.7777777777777778,
              "#fb9f3a"
             ],
             [
              0.8888888888888888,
              "#fdca26"
             ],
             [
              1,
              "#f0f921"
             ]
            ],
            "type": "histogram2d"
           }
          ],
          "histogram2dcontour": [
           {
            "colorbar": {
             "outlinewidth": 0,
             "ticks": ""
            },
            "colorscale": [
             [
              0,
              "#0d0887"
             ],
             [
              0.1111111111111111,
              "#46039f"
             ],
             [
              0.2222222222222222,
              "#7201a8"
             ],
             [
              0.3333333333333333,
              "#9c179e"
             ],
             [
              0.4444444444444444,
              "#bd3786"
             ],
             [
              0.5555555555555556,
              "#d8576b"
             ],
             [
              0.6666666666666666,
              "#ed7953"
             ],
             [
              0.7777777777777778,
              "#fb9f3a"
             ],
             [
              0.8888888888888888,
              "#fdca26"
             ],
             [
              1,
              "#f0f921"
             ]
            ],
            "type": "histogram2dcontour"
           }
          ],
          "mesh3d": [
           {
            "colorbar": {
             "outlinewidth": 0,
             "ticks": ""
            },
            "type": "mesh3d"
           }
          ],
          "parcoords": [
           {
            "line": {
             "colorbar": {
              "outlinewidth": 0,
              "ticks": ""
             }
            },
            "type": "parcoords"
           }
          ],
          "pie": [
           {
            "automargin": true,
            "type": "pie"
           }
          ],
          "scatter": [
           {
            "fillpattern": {
             "fillmode": "overlay",
             "size": 10,
             "solidity": 0.2
            },
            "type": "scatter"
           }
          ],
          "scatter3d": [
           {
            "line": {
             "colorbar": {
              "outlinewidth": 0,
              "ticks": ""
             }
            },
            "marker": {
             "colorbar": {
              "outlinewidth": 0,
              "ticks": ""
             }
            },
            "type": "scatter3d"
           }
          ],
          "scattercarpet": [
           {
            "marker": {
             "colorbar": {
              "outlinewidth": 0,
              "ticks": ""
             }
            },
            "type": "scattercarpet"
           }
          ],
          "scattergeo": [
           {
            "marker": {
             "colorbar": {
              "outlinewidth": 0,
              "ticks": ""
             }
            },
            "type": "scattergeo"
           }
          ],
          "scattergl": [
           {
            "marker": {
             "colorbar": {
              "outlinewidth": 0,
              "ticks": ""
             }
            },
            "type": "scattergl"
           }
          ],
          "scattermapbox": [
           {
            "marker": {
             "colorbar": {
              "outlinewidth": 0,
              "ticks": ""
             }
            },
            "type": "scattermapbox"
           }
          ],
          "scatterpolar": [
           {
            "marker": {
             "colorbar": {
              "outlinewidth": 0,
              "ticks": ""
             }
            },
            "type": "scatterpolar"
           }
          ],
          "scatterpolargl": [
           {
            "marker": {
             "colorbar": {
              "outlinewidth": 0,
              "ticks": ""
             }
            },
            "type": "scatterpolargl"
           }
          ],
          "scatterternary": [
           {
            "marker": {
             "colorbar": {
              "outlinewidth": 0,
              "ticks": ""
             }
            },
            "type": "scatterternary"
           }
          ],
          "surface": [
           {
            "colorbar": {
             "outlinewidth": 0,
             "ticks": ""
            },
            "colorscale": [
             [
              0,
              "#0d0887"
             ],
             [
              0.1111111111111111,
              "#46039f"
             ],
             [
              0.2222222222222222,
              "#7201a8"
             ],
             [
              0.3333333333333333,
              "#9c179e"
             ],
             [
              0.4444444444444444,
              "#bd3786"
             ],
             [
              0.5555555555555556,
              "#d8576b"
             ],
             [
              0.6666666666666666,
              "#ed7953"
             ],
             [
              0.7777777777777778,
              "#fb9f3a"
             ],
             [
              0.8888888888888888,
              "#fdca26"
             ],
             [
              1,
              "#f0f921"
             ]
            ],
            "type": "surface"
           }
          ],
          "table": [
           {
            "cells": {
             "fill": {
              "color": "#EBF0F8"
             },
             "line": {
              "color": "white"
             }
            },
            "header": {
             "fill": {
              "color": "#C8D4E3"
             },
             "line": {
              "color": "white"
             }
            },
            "type": "table"
           }
          ]
         },
         "layout": {
          "annotationdefaults": {
           "arrowcolor": "#2a3f5f",
           "arrowhead": 0,
           "arrowwidth": 1
          },
          "autotypenumbers": "strict",
          "coloraxis": {
           "colorbar": {
            "outlinewidth": 0,
            "ticks": ""
           }
          },
          "colorscale": {
           "diverging": [
            [
             0,
             "#8e0152"
            ],
            [
             0.1,
             "#c51b7d"
            ],
            [
             0.2,
             "#de77ae"
            ],
            [
             0.3,
             "#f1b6da"
            ],
            [
             0.4,
             "#fde0ef"
            ],
            [
             0.5,
             "#f7f7f7"
            ],
            [
             0.6,
             "#e6f5d0"
            ],
            [
             0.7,
             "#b8e186"
            ],
            [
             0.8,
             "#7fbc41"
            ],
            [
             0.9,
             "#4d9221"
            ],
            [
             1,
             "#276419"
            ]
           ],
           "sequential": [
            [
             0,
             "#0d0887"
            ],
            [
             0.1111111111111111,
             "#46039f"
            ],
            [
             0.2222222222222222,
             "#7201a8"
            ],
            [
             0.3333333333333333,
             "#9c179e"
            ],
            [
             0.4444444444444444,
             "#bd3786"
            ],
            [
             0.5555555555555556,
             "#d8576b"
            ],
            [
             0.6666666666666666,
             "#ed7953"
            ],
            [
             0.7777777777777778,
             "#fb9f3a"
            ],
            [
             0.8888888888888888,
             "#fdca26"
            ],
            [
             1,
             "#f0f921"
            ]
           ],
           "sequentialminus": [
            [
             0,
             "#0d0887"
            ],
            [
             0.1111111111111111,
             "#46039f"
            ],
            [
             0.2222222222222222,
             "#7201a8"
            ],
            [
             0.3333333333333333,
             "#9c179e"
            ],
            [
             0.4444444444444444,
             "#bd3786"
            ],
            [
             0.5555555555555556,
             "#d8576b"
            ],
            [
             0.6666666666666666,
             "#ed7953"
            ],
            [
             0.7777777777777778,
             "#fb9f3a"
            ],
            [
             0.8888888888888888,
             "#fdca26"
            ],
            [
             1,
             "#f0f921"
            ]
           ]
          },
          "colorway": [
           "#636efa",
           "#EF553B",
           "#00cc96",
           "#ab63fa",
           "#FFA15A",
           "#19d3f3",
           "#FF6692",
           "#B6E880",
           "#FF97FF",
           "#FECB52"
          ],
          "font": {
           "color": "#2a3f5f"
          },
          "geo": {
           "bgcolor": "white",
           "lakecolor": "white",
           "landcolor": "#E5ECF6",
           "showlakes": true,
           "showland": true,
           "subunitcolor": "white"
          },
          "hoverlabel": {
           "align": "left"
          },
          "hovermode": "closest",
          "mapbox": {
           "style": "light"
          },
          "paper_bgcolor": "white",
          "plot_bgcolor": "#E5ECF6",
          "polar": {
           "angularaxis": {
            "gridcolor": "white",
            "linecolor": "white",
            "ticks": ""
           },
           "bgcolor": "#E5ECF6",
           "radialaxis": {
            "gridcolor": "white",
            "linecolor": "white",
            "ticks": ""
           }
          },
          "scene": {
           "xaxis": {
            "backgroundcolor": "#E5ECF6",
            "gridcolor": "white",
            "gridwidth": 2,
            "linecolor": "white",
            "showbackground": true,
            "ticks": "",
            "zerolinecolor": "white"
           },
           "yaxis": {
            "backgroundcolor": "#E5ECF6",
            "gridcolor": "white",
            "gridwidth": 2,
            "linecolor": "white",
            "showbackground": true,
            "ticks": "",
            "zerolinecolor": "white"
           },
           "zaxis": {
            "backgroundcolor": "#E5ECF6",
            "gridcolor": "white",
            "gridwidth": 2,
            "linecolor": "white",
            "showbackground": true,
            "ticks": "",
            "zerolinecolor": "white"
           }
          },
          "shapedefaults": {
           "line": {
            "color": "#2a3f5f"
           }
          },
          "ternary": {
           "aaxis": {
            "gridcolor": "white",
            "linecolor": "white",
            "ticks": ""
           },
           "baxis": {
            "gridcolor": "white",
            "linecolor": "white",
            "ticks": ""
           },
           "bgcolor": "#E5ECF6",
           "caxis": {
            "gridcolor": "white",
            "linecolor": "white",
            "ticks": ""
           }
          },
          "title": {
           "x": 0.05
          },
          "xaxis": {
           "automargin": true,
           "gridcolor": "white",
           "linecolor": "white",
           "ticks": "",
           "title": {
            "standoff": 15
           },
           "zerolinecolor": "white",
           "zerolinewidth": 2
          },
          "yaxis": {
           "automargin": true,
           "gridcolor": "white",
           "linecolor": "white",
           "ticks": "",
           "title": {
            "standoff": 15
           },
           "zerolinecolor": "white",
           "zerolinewidth": 2
          }
         }
        },
        "width": 1000
       }
      }
     },
     "metadata": {},
     "output_type": "display_data"
    }
   ],
   "source": [
    "comp_1800 = df[df['year_founded'] <= 1800][['year_founded', 'company', 'brief_description']]\n",
    "comp_1800 = comp_1800.sort_values(by='year_founded')\n",
    "comp_1800.columns = ['Year Founded', 'Company Name', 'What does it do?']\n",
    "\n",
    "fig = go.Figure(data=[go.Table(\n",
    "    columnwidth=[200, 200, 800],\n",
    "    header=dict(values=list(comp_1800.columns)),\n",
    "    cells=dict(values=[comp_1800[col] for col in comp_1800.columns],\n",
    "               align=['center', 'center', 'left'])\n",
    ")])\n",
    "\n",
    "fig.update_layout(\n",
    "    margin=dict(l=0, r=0, t=30, b=0),\n",
    "    width=1000,\n",
    "    height=300\n",
    ")\n",
    "\n",
    "fig.show()"
   ]
  },
  {
   "cell_type": "code",
   "execution_count": 10,
   "metadata": {},
   "outputs": [
    {
     "data": {
      "text/plain": [
       "count    1465.000000\n",
       "mean     2007.939932\n",
       "std        26.797315\n",
       "min      1668.000000\n",
       "25%      2010.000000\n",
       "50%      2017.000000\n",
       "75%      2020.000000\n",
       "max      2023.000000\n",
       "Name: year_founded, dtype: float64"
      ]
     },
     "execution_count": 10,
     "metadata": {},
     "output_type": "execute_result"
    }
   ],
   "source": [
    "df['year_founded'].describe()"
   ]
  },
  {
   "cell_type": "code",
   "execution_count": 11,
   "metadata": {},
   "outputs": [
    {
     "data": {
      "application/vnd.plotly.v1+json": {
       "config": {
        "plotlyServerURL": "https://plot.ly"
       },
       "data": [
        {
         "hovertemplate": "x=%{x}<br>y=%{y}<extra></extra>",
         "legendgroup": "",
         "line": {
          "color": "gray",
          "dash": "solid"
         },
         "marker": {
          "symbol": "circle"
         },
         "mode": "lines",
         "name": "",
         "orientation": "v",
         "showlegend": false,
         "type": "scatter",
         "x": [
          1971,
          1972,
          1973,
          1974,
          1976,
          1977,
          1978,
          1979,
          1980,
          1981,
          1982,
          1983,
          1984,
          1985,
          1986,
          1987,
          1988,
          1989,
          1990,
          1991,
          1992,
          1993,
          1994,
          1995,
          1996,
          1997,
          1998,
          1999,
          2000,
          2001,
          2002,
          2003,
          2004,
          2005,
          2006,
          2007,
          2008,
          2009,
          2010,
          2011,
          2012,
          2013,
          2014,
          2015,
          2016,
          2017,
          2018,
          2019,
          2020,
          2021,
          2022,
          2023
         ],
         "xaxis": "x",
         "y": [
          -3,
          1,
          -1,
          2,
          -1,
          1,
          7,
          -4,
          5,
          -8,
          0,
          1,
          -2,
          7,
          0,
          -1,
          1,
          -2,
          6,
          -8,
          0,
          4,
          -3,
          2,
          0,
          -4,
          4,
          1,
          2,
          -4,
          -1,
          -2,
          6,
          -2,
          2,
          -7,
          15,
          -6,
          10,
          4,
          6,
          4,
          5,
          23,
          8,
          21,
          17,
          48,
          12,
          3,
          -78,
          -74
         ],
         "yaxis": "y"
        },
        {
         "marker": {
          "color": "red",
          "size": 12
         },
         "showlegend": false,
         "type": "scatter",
         "x": [
          2019
         ],
         "y": [
          48
         ]
        }
       ],
       "layout": {
        "legend": {
         "tracegroupgap": 0
        },
        "margin": {
         "t": 60
        },
        "template": {
         "data": {
          "bar": [
           {
            "error_x": {
             "color": "#2a3f5f"
            },
            "error_y": {
             "color": "#2a3f5f"
            },
            "marker": {
             "line": {
              "color": "#E5ECF6",
              "width": 0.5
             },
             "pattern": {
              "fillmode": "overlay",
              "size": 10,
              "solidity": 0.2
             }
            },
            "type": "bar"
           }
          ],
          "barpolar": [
           {
            "marker": {
             "line": {
              "color": "#E5ECF6",
              "width": 0.5
             },
             "pattern": {
              "fillmode": "overlay",
              "size": 10,
              "solidity": 0.2
             }
            },
            "type": "barpolar"
           }
          ],
          "carpet": [
           {
            "aaxis": {
             "endlinecolor": "#2a3f5f",
             "gridcolor": "white",
             "linecolor": "white",
             "minorgridcolor": "white",
             "startlinecolor": "#2a3f5f"
            },
            "baxis": {
             "endlinecolor": "#2a3f5f",
             "gridcolor": "white",
             "linecolor": "white",
             "minorgridcolor": "white",
             "startlinecolor": "#2a3f5f"
            },
            "type": "carpet"
           }
          ],
          "choropleth": [
           {
            "colorbar": {
             "outlinewidth": 0,
             "ticks": ""
            },
            "type": "choropleth"
           }
          ],
          "contour": [
           {
            "colorbar": {
             "outlinewidth": 0,
             "ticks": ""
            },
            "colorscale": [
             [
              0,
              "#0d0887"
             ],
             [
              0.1111111111111111,
              "#46039f"
             ],
             [
              0.2222222222222222,
              "#7201a8"
             ],
             [
              0.3333333333333333,
              "#9c179e"
             ],
             [
              0.4444444444444444,
              "#bd3786"
             ],
             [
              0.5555555555555556,
              "#d8576b"
             ],
             [
              0.6666666666666666,
              "#ed7953"
             ],
             [
              0.7777777777777778,
              "#fb9f3a"
             ],
             [
              0.8888888888888888,
              "#fdca26"
             ],
             [
              1,
              "#f0f921"
             ]
            ],
            "type": "contour"
           }
          ],
          "contourcarpet": [
           {
            "colorbar": {
             "outlinewidth": 0,
             "ticks": ""
            },
            "type": "contourcarpet"
           }
          ],
          "heatmap": [
           {
            "colorbar": {
             "outlinewidth": 0,
             "ticks": ""
            },
            "colorscale": [
             [
              0,
              "#0d0887"
             ],
             [
              0.1111111111111111,
              "#46039f"
             ],
             [
              0.2222222222222222,
              "#7201a8"
             ],
             [
              0.3333333333333333,
              "#9c179e"
             ],
             [
              0.4444444444444444,
              "#bd3786"
             ],
             [
              0.5555555555555556,
              "#d8576b"
             ],
             [
              0.6666666666666666,
              "#ed7953"
             ],
             [
              0.7777777777777778,
              "#fb9f3a"
             ],
             [
              0.8888888888888888,
              "#fdca26"
             ],
             [
              1,
              "#f0f921"
             ]
            ],
            "type": "heatmap"
           }
          ],
          "heatmapgl": [
           {
            "colorbar": {
             "outlinewidth": 0,
             "ticks": ""
            },
            "colorscale": [
             [
              0,
              "#0d0887"
             ],
             [
              0.1111111111111111,
              "#46039f"
             ],
             [
              0.2222222222222222,
              "#7201a8"
             ],
             [
              0.3333333333333333,
              "#9c179e"
             ],
             [
              0.4444444444444444,
              "#bd3786"
             ],
             [
              0.5555555555555556,
              "#d8576b"
             ],
             [
              0.6666666666666666,
              "#ed7953"
             ],
             [
              0.7777777777777778,
              "#fb9f3a"
             ],
             [
              0.8888888888888888,
              "#fdca26"
             ],
             [
              1,
              "#f0f921"
             ]
            ],
            "type": "heatmapgl"
           }
          ],
          "histogram": [
           {
            "marker": {
             "pattern": {
              "fillmode": "overlay",
              "size": 10,
              "solidity": 0.2
             }
            },
            "type": "histogram"
           }
          ],
          "histogram2d": [
           {
            "colorbar": {
             "outlinewidth": 0,
             "ticks": ""
            },
            "colorscale": [
             [
              0,
              "#0d0887"
             ],
             [
              0.1111111111111111,
              "#46039f"
             ],
             [
              0.2222222222222222,
              "#7201a8"
             ],
             [
              0.3333333333333333,
              "#9c179e"
             ],
             [
              0.4444444444444444,
              "#bd3786"
             ],
             [
              0.5555555555555556,
              "#d8576b"
             ],
             [
              0.6666666666666666,
              "#ed7953"
             ],
             [
              0.7777777777777778,
              "#fb9f3a"
             ],
             [
              0.8888888888888888,
              "#fdca26"
             ],
             [
              1,
              "#f0f921"
             ]
            ],
            "type": "histogram2d"
           }
          ],
          "histogram2dcontour": [
           {
            "colorbar": {
             "outlinewidth": 0,
             "ticks": ""
            },
            "colorscale": [
             [
              0,
              "#0d0887"
             ],
             [
              0.1111111111111111,
              "#46039f"
             ],
             [
              0.2222222222222222,
              "#7201a8"
             ],
             [
              0.3333333333333333,
              "#9c179e"
             ],
             [
              0.4444444444444444,
              "#bd3786"
             ],
             [
              0.5555555555555556,
              "#d8576b"
             ],
             [
              0.6666666666666666,
              "#ed7953"
             ],
             [
              0.7777777777777778,
              "#fb9f3a"
             ],
             [
              0.8888888888888888,
              "#fdca26"
             ],
             [
              1,
              "#f0f921"
             ]
            ],
            "type": "histogram2dcontour"
           }
          ],
          "mesh3d": [
           {
            "colorbar": {
             "outlinewidth": 0,
             "ticks": ""
            },
            "type": "mesh3d"
           }
          ],
          "parcoords": [
           {
            "line": {
             "colorbar": {
              "outlinewidth": 0,
              "ticks": ""
             }
            },
            "type": "parcoords"
           }
          ],
          "pie": [
           {
            "automargin": true,
            "type": "pie"
           }
          ],
          "scatter": [
           {
            "fillpattern": {
             "fillmode": "overlay",
             "size": 10,
             "solidity": 0.2
            },
            "type": "scatter"
           }
          ],
          "scatter3d": [
           {
            "line": {
             "colorbar": {
              "outlinewidth": 0,
              "ticks": ""
             }
            },
            "marker": {
             "colorbar": {
              "outlinewidth": 0,
              "ticks": ""
             }
            },
            "type": "scatter3d"
           }
          ],
          "scattercarpet": [
           {
            "marker": {
             "colorbar": {
              "outlinewidth": 0,
              "ticks": ""
             }
            },
            "type": "scattercarpet"
           }
          ],
          "scattergeo": [
           {
            "marker": {
             "colorbar": {
              "outlinewidth": 0,
              "ticks": ""
             }
            },
            "type": "scattergeo"
           }
          ],
          "scattergl": [
           {
            "marker": {
             "colorbar": {
              "outlinewidth": 0,
              "ticks": ""
             }
            },
            "type": "scattergl"
           }
          ],
          "scattermapbox": [
           {
            "marker": {
             "colorbar": {
              "outlinewidth": 0,
              "ticks": ""
             }
            },
            "type": "scattermapbox"
           }
          ],
          "scatterpolar": [
           {
            "marker": {
             "colorbar": {
              "outlinewidth": 0,
              "ticks": ""
             }
            },
            "type": "scatterpolar"
           }
          ],
          "scatterpolargl": [
           {
            "marker": {
             "colorbar": {
              "outlinewidth": 0,
              "ticks": ""
             }
            },
            "type": "scatterpolargl"
           }
          ],
          "scatterternary": [
           {
            "marker": {
             "colorbar": {
              "outlinewidth": 0,
              "ticks": ""
             }
            },
            "type": "scatterternary"
           }
          ],
          "surface": [
           {
            "colorbar": {
             "outlinewidth": 0,
             "ticks": ""
            },
            "colorscale": [
             [
              0,
              "#0d0887"
             ],
             [
              0.1111111111111111,
              "#46039f"
             ],
             [
              0.2222222222222222,
              "#7201a8"
             ],
             [
              0.3333333333333333,
              "#9c179e"
             ],
             [
              0.4444444444444444,
              "#bd3786"
             ],
             [
              0.5555555555555556,
              "#d8576b"
             ],
             [
              0.6666666666666666,
              "#ed7953"
             ],
             [
              0.7777777777777778,
              "#fb9f3a"
             ],
             [
              0.8888888888888888,
              "#fdca26"
             ],
             [
              1,
              "#f0f921"
             ]
            ],
            "type": "surface"
           }
          ],
          "table": [
           {
            "cells": {
             "fill": {
              "color": "#EBF0F8"
             },
             "line": {
              "color": "white"
             }
            },
            "header": {
             "fill": {
              "color": "#C8D4E3"
             },
             "line": {
              "color": "white"
             }
            },
            "type": "table"
           }
          ]
         },
         "layout": {
          "annotationdefaults": {
           "arrowcolor": "#2a3f5f",
           "arrowhead": 0,
           "arrowwidth": 1
          },
          "autotypenumbers": "strict",
          "coloraxis": {
           "colorbar": {
            "outlinewidth": 0,
            "ticks": ""
           }
          },
          "colorscale": {
           "diverging": [
            [
             0,
             "#8e0152"
            ],
            [
             0.1,
             "#c51b7d"
            ],
            [
             0.2,
             "#de77ae"
            ],
            [
             0.3,
             "#f1b6da"
            ],
            [
             0.4,
             "#fde0ef"
            ],
            [
             0.5,
             "#f7f7f7"
            ],
            [
             0.6,
             "#e6f5d0"
            ],
            [
             0.7,
             "#b8e186"
            ],
            [
             0.8,
             "#7fbc41"
            ],
            [
             0.9,
             "#4d9221"
            ],
            [
             1,
             "#276419"
            ]
           ],
           "sequential": [
            [
             0,
             "#0d0887"
            ],
            [
             0.1111111111111111,
             "#46039f"
            ],
            [
             0.2222222222222222,
             "#7201a8"
            ],
            [
             0.3333333333333333,
             "#9c179e"
            ],
            [
             0.4444444444444444,
             "#bd3786"
            ],
            [
             0.5555555555555556,
             "#d8576b"
            ],
            [
             0.6666666666666666,
             "#ed7953"
            ],
            [
             0.7777777777777778,
             "#fb9f3a"
            ],
            [
             0.8888888888888888,
             "#fdca26"
            ],
            [
             1,
             "#f0f921"
            ]
           ],
           "sequentialminus": [
            [
             0,
             "#0d0887"
            ],
            [
             0.1111111111111111,
             "#46039f"
            ],
            [
             0.2222222222222222,
             "#7201a8"
            ],
            [
             0.3333333333333333,
             "#9c179e"
            ],
            [
             0.4444444444444444,
             "#bd3786"
            ],
            [
             0.5555555555555556,
             "#d8576b"
            ],
            [
             0.6666666666666666,
             "#ed7953"
            ],
            [
             0.7777777777777778,
             "#fb9f3a"
            ],
            [
             0.8888888888888888,
             "#fdca26"
            ],
            [
             1,
             "#f0f921"
            ]
           ]
          },
          "colorway": [
           "#636efa",
           "#EF553B",
           "#00cc96",
           "#ab63fa",
           "#FFA15A",
           "#19d3f3",
           "#FF6692",
           "#B6E880",
           "#FF97FF",
           "#FECB52"
          ],
          "font": {
           "color": "#2a3f5f"
          },
          "geo": {
           "bgcolor": "white",
           "lakecolor": "white",
           "landcolor": "#E5ECF6",
           "showlakes": true,
           "showland": true,
           "subunitcolor": "white"
          },
          "hoverlabel": {
           "align": "left"
          },
          "hovermode": "closest",
          "mapbox": {
           "style": "light"
          },
          "paper_bgcolor": "white",
          "plot_bgcolor": "#E5ECF6",
          "polar": {
           "angularaxis": {
            "gridcolor": "white",
            "linecolor": "white",
            "ticks": ""
           },
           "bgcolor": "#E5ECF6",
           "radialaxis": {
            "gridcolor": "white",
            "linecolor": "white",
            "ticks": ""
           }
          },
          "scene": {
           "xaxis": {
            "backgroundcolor": "#E5ECF6",
            "gridcolor": "white",
            "gridwidth": 2,
            "linecolor": "white",
            "showbackground": true,
            "ticks": "",
            "zerolinecolor": "white"
           },
           "yaxis": {
            "backgroundcolor": "#E5ECF6",
            "gridcolor": "white",
            "gridwidth": 2,
            "linecolor": "white",
            "showbackground": true,
            "ticks": "",
            "zerolinecolor": "white"
           },
           "zaxis": {
            "backgroundcolor": "#E5ECF6",
            "gridcolor": "white",
            "gridwidth": 2,
            "linecolor": "white",
            "showbackground": true,
            "ticks": "",
            "zerolinecolor": "white"
           }
          },
          "shapedefaults": {
           "line": {
            "color": "#2a3f5f"
           }
          },
          "ternary": {
           "aaxis": {
            "gridcolor": "white",
            "linecolor": "white",
            "ticks": ""
           },
           "baxis": {
            "gridcolor": "white",
            "linecolor": "white",
            "ticks": ""
           },
           "bgcolor": "#E5ECF6",
           "caxis": {
            "gridcolor": "white",
            "linecolor": "white",
            "ticks": ""
           }
          },
          "title": {
           "x": 0.05
          },
          "xaxis": {
           "automargin": true,
           "gridcolor": "white",
           "linecolor": "white",
           "ticks": "",
           "title": {
            "standoff": 15
           },
           "zerolinecolor": "white",
           "zerolinewidth": 2
          },
          "yaxis": {
           "automargin": true,
           "gridcolor": "white",
           "linecolor": "white",
           "ticks": "",
           "title": {
            "standoff": 15
           },
           "zerolinecolor": "white",
           "zerolinewidth": 2
          }
         }
        },
        "title": {
         "font": {
          "size": 30
         },
         "text": "Investment in the alt protein starts to fade after 2019"
        },
        "xaxis": {
         "anchor": "y",
         "domain": [
          0,
          1
         ],
         "tickvals": [
          1970,
          1975,
          1980,
          1985,
          1990,
          1995,
          2000,
          2005,
          2010,
          2015,
          2020
         ],
         "title": {
          "text": ""
         }
        },
        "yaxis": {
         "anchor": "x",
         "domain": [
          0,
          1
         ],
         "title": {
          "text": "Year-Over-Year Change"
         }
        }
       }
      }
     },
     "metadata": {},
     "output_type": "display_data"
    }
   ],
   "source": [
    "# Calculating the number of companies founded for each year\n",
    "companies_per_year = df['year_founded'].value_counts().sort_index()\n",
    "\n",
    "# Calculating the year-over-year change in the number of companies founded\n",
    "yearly_change = companies_per_year.diff()\n",
    "\n",
    "yearly_change = yearly_change.reset_index()\n",
    "\n",
    "# Create graph\n",
    "fig = px.line(yearly_change, x=yearly_change[yearly_change['year_founded'] > 1970]['year_founded'],\n",
    "              y=yearly_change[yearly_change['year_founded'] > 1970]['count'], \n",
    "              labels={'count': 'Year-over-year change'},\n",
    "              color_discrete_sequence=['gray'])\n",
    "\n",
    "fig.add_scatter(x=[2019], y=yearly_change[yearly_change['year_founded'] == 2019]['count'],\n",
    "                marker=dict(color='red', size=12),\n",
    "                showlegend=False)\n",
    "\n",
    "fig.update_xaxes(title='', tickvals=list(range(1970, 2025, 5)))\n",
    "fig.update_yaxes(title='Year-Over-Year Change')\n",
    "\n",
    "fig.update_layout(\n",
    "    title='Investment in the alt protein starts to fade after 2019',\n",
    "    title_font=dict(size=30)\n",
    ")\n",
    "\n",
    "fig.show()"
   ]
  },
  {
   "cell_type": "code",
   "execution_count": 12,
   "metadata": {},
   "outputs": [
    {
     "name": "stderr",
     "output_type": "stream",
     "text": [
      "c:\\Users\\Ale\\anaconda3\\envs\\alt-protein\\Lib\\site-packages\\seaborn\\_oldcore.py:1119: FutureWarning:\n",
      "\n",
      "use_inf_as_na option is deprecated and will be removed in a future version. Convert inf values to NaN before operating instead.\n",
      "\n",
      "c:\\Users\\Ale\\anaconda3\\envs\\alt-protein\\Lib\\site-packages\\seaborn\\_oldcore.py:1119: FutureWarning:\n",
      "\n",
      "use_inf_as_na option is deprecated and will be removed in a future version. Convert inf values to NaN before operating instead.\n",
      "\n"
     ]
    },
    {
     "data": {
      "image/png": "[encoded data removed]",
      "text/plain": [
       "<Figure size 1200x600 with 1 Axes>"
      ]
     },
     "metadata": {},
     "output_type": "display_data"
    }
   ],
   "source": [
    "# Count the number of companies founded each year\n",
    "yearly_company_counts = df['year_founded'].value_counts().sort_index()\n",
    "\n",
    "# Filter for years greater than 1970\n",
    "yearly_company_counts = yearly_company_counts[yearly_company_counts.index > 1970]\n",
    "\n",
    "yearly_company_counts_df = yearly_company_counts.reset_index()\n",
    "yearly_company_counts_df.columns = ['Year Founded', 'Number of Companies']\n",
    "yearly_company_counts_df['Year Founded'] = yearly_company_counts_df['Year Founded'].astype(int)\n",
    "\n",
    "# Create the plot\n",
    "plt.figure(figsize=(12, 6))\n",
    "sns.lineplot(data=yearly_company_counts_df, x='Year Founded', y='Number of Companies', marker='o', color='gray')\n",
    "\n",
    "# Annotate and highlight specific years\n",
    "highlight_years = [2019, 2021, 2022, 2023]\n",
    "for year in highlight_years:\n",
    "    # Annotate\n",
    "    count = yearly_company_counts_df[yearly_company_counts_df['Year Founded'] == year]['Number of Companies'].values[0]\n",
    "    plt.annotate(f'{year}', (year, count), textcoords=\"offset points\", xytext=(0,10), ha='right')\n",
    "    \n",
    "    # Highlight in red\n",
    "    plt.scatter(year, count, c=\"red\", edgecolors=\"red\", zorder=2)\n",
    "\n",
    "plt.title('Alt protein companies at its peak in 2021', fontsize=20)\n",
    "plt.xlabel('Year Founded')\n",
    "plt.ylabel('Number of Founded Companies')\n",
    "plt.grid(True)\n",
    "\n",
    "# Set x-axis ticks every 5 years\n",
    "plt.xticks(range(1970, yearly_company_counts_df['Year Founded'].max() + 1, 5))\n",
    "\n",
    "plt.show()"
   ]
  },
  {
   "cell_type": "markdown",
   "metadata": {},
   "source": [
    "## Protein Categories"
   ]
  },
  {
   "cell_type": "code",
   "execution_count": 13,
   "metadata": {},
   "outputs": [
    {
     "data": {
      "image/png": "[encoded data removed]",
      "text/plain": [
       "<Figure size 1000x600 with 1 Axes>"
      ]
     },
     "metadata": {},
     "output_type": "display_data"
    }
   ],
   "source": [
    "# Calculating the percentage for each category\n",
    "category_percentages = df_explode['protein_category'].value_counts(normalize=True) * 100\n",
    "category_percentages = category_percentages.reset_index()\n",
    "category_percentages.columns = ['protein_category', 'percentage']\n",
    "\n",
    "# Sorting the categories in descending order of percentage\n",
    "category_percentages = category_percentages.sort_values(by='percentage', ascending=False)\n",
    "\n",
    "# Create plot\n",
    "plt.figure(figsize=(10, 6))\n",
    "sns.barplot(data=category_percentages, x='percentage', y='protein_category', edgecolor='black')\n",
    "plt.title('Plant-based technology leads alt proteins', fontsize=20)\n",
    "plt.ylabel('')\n",
    "plt.xlabel('Percentage (%)')\n",
    "plt.show()"
   ]
  },
  {
   "cell_type": "code",
   "execution_count": 14,
   "metadata": {},
   "outputs": [
    {
     "data": {
      "image/png": "[encoded data removed]",
      "text/plain": [
       "<Figure size 1000x600 with 1 Axes>"
      ]
     },
     "metadata": {},
     "output_type": "display_data"
    }
   ],
   "source": [
    "# Create a column with grouped fermentation protein categories\n",
    "df_explode['protein_category_new'] = df_explode['protein_category'].apply(\n",
    "    lambda x: \"Fermentation based\" if \"fermentation\" in str(x).lower() else x\n",
    ")\n",
    "    \n",
    "# Calculating the percentage for each category\n",
    "category_percentages = df_explode['protein_category_new'].value_counts(normalize=True) * 100\n",
    "category_percentages = category_percentages.reset_index()\n",
    "category_percentages.columns = ['protein_category', 'percentage']\n",
    "\n",
    "# Sorting the categories in descending order of percentage\n",
    "category_percentages = category_percentages.sort_values(by='percentage', ascending=False)\n",
    "\n",
    "# Create plot\n",
    "plt.figure(figsize=(10, 6))\n",
    "sns.barplot(data=category_percentages, x='percentage', y='protein_category', edgecolor='black')\n",
    "plt.title('Plant-based technology leads alt proteins', fontsize=20)\n",
    "plt.ylabel('')\n",
    "plt.xlabel('Percentage (%)')\n",
    "plt.show()"
   ]
  },
  {
   "cell_type": "markdown",
   "metadata": {},
   "source": [
    "## Industry Focus"
   ]
  },
  {
   "cell_type": "code",
   "execution_count": 15,
   "metadata": {},
   "outputs": [
    {
     "data": {
      "image/png": "[encoded data removed]",
      "text/plain": [
       "<Figure size 1000x600 with 1 Axes>"
      ]
     },
     "metadata": {},
     "output_type": "display_data"
    }
   ],
   "source": [
    "# Calculating the percentage for each category\n",
    "industry = df_explode['company_focus'].value_counts(normalize=True) * 100\n",
    "industry = industry.reset_index()\n",
    "industry.columns = ['company_focus', 'percentage']\n",
    "\n",
    "# Sorting the categories in descending order of percentage\n",
    "industry = industry.sort_values(by='percentage', ascending=False)\n",
    "\n",
    "# Creating the density plot with sorted categories\n",
    "plt.figure(figsize=(10, 6))\n",
    "sns.barplot(data=industry, x='percentage', y='company_focus', edgecolor='black')\n",
    "plt.title('Industry focuses on meat and dairy alternatives', fontsize=30)\n",
    "plt.ylabel('')\n",
    "plt.xlabel('Percentage (%)')\n",
    "plt.show()"
   ]
  },
  {
   "cell_type": "code",
   "execution_count": 16,
   "metadata": {},
   "outputs": [
    {
     "name": "stderr",
     "output_type": "stream",
     "text": [
      "C:\\Users\\Ale\\AppData\\Local\\Temp\\ipykernel_7964\\3889743313.py:2: SettingWithCopyWarning:\n",
      "\n",
      "\n",
      "A value is trying to be set on a copy of a slice from a DataFrame.\n",
      "Try using .loc[row_indexer,col_indexer] = value instead\n",
      "\n",
      "See the caveats in the documentation: https://pandas.pydata.org/pandas-docs/stable/user_guide/indexing.html#returning-a-view-versus-a-copy\n",
      "\n",
      "c:\\Users\\Ale\\anaconda3\\envs\\alt-protein\\Lib\\site-packages\\seaborn\\_oldcore.py:1119: FutureWarning:\n",
      "\n",
      "use_inf_as_na option is deprecated and will be removed in a future version. Convert inf values to NaN before operating instead.\n",
      "\n",
      "c:\\Users\\Ale\\anaconda3\\envs\\alt-protein\\Lib\\site-packages\\seaborn\\_oldcore.py:1119: FutureWarning:\n",
      "\n",
      "use_inf_as_na option is deprecated and will be removed in a future version. Convert inf values to NaN before operating instead.\n",
      "\n"
     ]
    },
    {
     "data": {
      "image/png": "[encoded data removed]",
      "text/plain": [
       "<Figure size 1500x800 with 1 Axes>"
      ]
     },
     "metadata": {},
     "output_type": "display_data"
    }
   ],
   "source": [
    "filtered_data = df_explode.dropna(subset=['year_founded', 'company_focus'])\n",
    "filtered_data['year_founded'] = filtered_data['year_founded'].astype(int)\n",
    "\n",
    "filtered_data_2010_onwards = filtered_data[filtered_data['year_founded'] >= 2010]\n",
    "growth_data_2010_onwards = filtered_data_2010_onwards.groupby(['year_founded', 'company_focus']).agg({'company': 'nunique'}).reset_index()\n",
    "\n",
    "# Pivot the data for plotting\n",
    "pivot_data_2010_onwards = growth_data_2010_onwards.pivot(index='year_founded', columns='company_focus', values='company').fillna(0)\n",
    "\n",
    "# Create plot\n",
    "plt.figure(figsize=(15, 8))\n",
    "sns.lineplot(data=pivot_data_2010_onwards)\n",
    "plt.title('After 2019 investment declines across all alt protein categories', fontsize=20)\n",
    "plt.ylabel('Number of Founded Companies')\n",
    "plt.xlabel('')\n",
    "plt.legend(title='Company Focus', bbox_to_anchor=(1.05, 1), loc='upper left')\n",
    "plt.tight_layout()\n",
    "plt.show()\n"
   ]
  },
  {
   "cell_type": "markdown",
   "metadata": {},
   "source": [
    "## Operating Regions"
   ]
  },
  {
   "cell_type": "markdown",
   "metadata": {},
   "source": [
    "- Most alt protein companies originate in the USA.\n",
    "- Most companies have operations in the Asia Pacific region."
   ]
  },
  {
   "cell_type": "code",
   "execution_count": 17,
   "metadata": {},
   "outputs": [
    {
     "data": {
      "text/plain": [
       "<Figure size 1000x600 with 0 Axes>"
      ]
     },
     "metadata": {},
     "output_type": "display_data"
    },
    {
     "data": {
      "image/png": "[encoded data removed]",
      "text/plain": [
       "<Figure size 640x480 with 1 Axes>"
      ]
     },
     "metadata": {},
     "output_type": "display_data"
    }
   ],
   "source": [
    "# Select operating_regions excetp for 'Global'\n",
    "df_explode = df_explode[df_explode['operating_regions'] != 'Global']\n",
    "\n",
    "pivot_data = df_explode.pivot_table(index='operating_regions', columns='protein_category_new', aggfunc='size', fill_value=0)\n",
    "\n",
    "# Calculate percentage\n",
    "pivot_data_percentage = pivot_data.div(pivot_data.sum(axis=1), axis=0) * 100\n",
    "\n",
    "# Create plot\n",
    "plt.figure(figsize=(10, 6))\n",
    "pivot_data_percentage.plot(kind='barh', stacked=True, edgecolor='black')\n",
    "plt.title('Protein Categories by Region', fontsize=20)\n",
    "plt.xlabel('Percentage (%)')\n",
    "plt.ylabel('')\n",
    "plt.legend(title='Protein Category', bbox_to_anchor=(1.05, 1), loc='upper left')\n",
    "plt.tight_layout()\n",
    "\n",
    "plt.show()"
   ]
  },
  {
   "cell_type": "code",
   "execution_count": 18,
   "metadata": {},
   "outputs": [
    {
     "data": {
      "application/vnd.plotly.v1+json": {
       "config": {
        "plotlyServerURL": "https://plot.ly"
       },
       "data": [
        {
         "link": {
          "source": [
           0,
           1,
           2,
           3,
           4,
           5,
           4,
           5,
           3,
           2,
           1,
           0,
           0,
           5,
           1,
           3,
           2,
           4,
           5,
           2,
           1,
           5,
           4,
           4
          ],
          "target": [
           6,
           7,
           7,
           7,
           7,
           7,
           6,
           6,
           6,
           6,
           6,
           7,
           8,
           8,
           8,
           8,
           8,
           8,
           9,
           9,
           9,
           10,
           10,
           9
          ],
          "value": [
           1359,
           1859,
           6798,
           1786,
           12716,
           5500,
           11587,
           4124,
           823,
           2108,
           508,
           262,
           214,
           1220,
           241,
           258,
           794,
           828,
           69,
           40,
           5,
           4,
           4,
           2
          ]
         },
         "node": {
          "label": [
           "Australia/New Zealand",
           "Africa/Middle East",
           "Europe",
           "Latin America",
           "Asia Pacific",
           "U.S. and Canada",
           "Fermentation based",
           "Plant-based",
           "Cultivated",
           "Plant molecular farming",
           "Blended"
          ],
          "line": {
           "color": "black",
           "width": 0.5
          },
          "pad": 15,
          "thickness": 20
         },
         "type": "sankey"
        }
       ],
       "layout": {
        "font": {
         "size": 10
        },
        "template": {
         "data": {
          "bar": [
           {
            "error_x": {
             "color": "#2a3f5f"
            },
            "error_y": {
             "color": "#2a3f5f"
            },
            "marker": {
             "line": {
              "color": "#E5ECF6",
              "width": 0.5
             },
             "pattern": {
              "fillmode": "overlay",
              "size": 10,
              "solidity": 0.2
             }
            },
            "type": "bar"
           }
          ],
          "barpolar": [
           {
            "marker": {
             "line": {
              "color": "#E5ECF6",
              "width": 0.5
             },
             "pattern": {
              "fillmode": "overlay",
              "size": 10,
              "solidity": 0.2
             }
            },
            "type": "barpolar"
           }
          ],
          "carpet": [
           {
            "aaxis": {
             "endlinecolor": "#2a3f5f",
             "gridcolor": "white",
             "linecolor": "white",
             "minorgridcolor": "white",
             "startlinecolor": "#2a3f5f"
            },
            "baxis": {
             "endlinecolor": "#2a3f5f",
             "gridcolor": "white",
             "linecolor": "white",
             "minorgridcolor": "white",
             "startlinecolor": "#2a3f5f"
            },
            "type": "carpet"
           }
          ],
          "choropleth": [
           {
            "colorbar": {
             "outlinewidth": 0,
             "ticks": ""
            },
            "type": "choropleth"
           }
          ],
          "contour": [
           {
            "colorbar": {
             "outlinewidth": 0,
             "ticks": ""
            },
            "colorscale": [
             [
              0,
              "#0d0887"
             ],
             [
              0.1111111111111111,
              "#46039f"
             ],
             [
              0.2222222222222222,
              "#7201a8"
             ],
             [
              0.3333333333333333,
              "#9c179e"
             ],
             [
              0.4444444444444444,
              "#bd3786"
             ],
             [
              0.5555555555555556,
              "#d8576b"
             ],
             [
              0.6666666666666666,
              "#ed7953"
             ],
             [
              0.7777777777777778,
              "#fb9f3a"
             ],
             [
              0.8888888888888888,
              "#fdca26"
             ],
             [
              1,
              "#f0f921"
             ]
            ],
            "type": "contour"
           }
          ],
          "contourcarpet": [
           {
            "colorbar": {
             "outlinewidth": 0,
             "ticks": ""
            },
            "type": "contourcarpet"
           }
          ],
          "heatmap": [
           {
            "colorbar": {
             "outlinewidth": 0,
             "ticks": ""
            },
            "colorscale": [
             [
              0,
              "#0d0887"
             ],
             [
              0.1111111111111111,
              "#46039f"
             ],
             [
              0.2222222222222222,
              "#7201a8"
             ],
             [
              0.3333333333333333,
              "#9c179e"
             ],
             [
              0.4444444444444444,
              "#bd3786"
             ],
             [
              0.5555555555555556,
              "#d8576b"
             ],
             [
              0.6666666666666666,
              "#ed7953"
             ],
             [
              0.7777777777777778,
              "#fb9f3a"
             ],
             [
              0.8888888888888888,
              "#fdca26"
             ],
             [
              1,
              "#f0f921"
             ]
            ],
            "type": "heatmap"
           }
          ],
          "heatmapgl": [
           {
            "colorbar": {
             "outlinewidth": 0,
             "ticks": ""
            },
            "colorscale": [
             [
              0,
              "#0d0887"
             ],
             [
              0.1111111111111111,
              "#46039f"
             ],
             [
              0.2222222222222222,
              "#7201a8"
             ],
             [
              0.3333333333333333,
              "#9c179e"
             ],
             [
              0.4444444444444444,
              "#bd3786"
             ],
             [
              0.5555555555555556,
              "#d8576b"
             ],
             [
              0.6666666666666666,
              "#ed7953"
             ],
             [
              0.7777777777777778,
              "#fb9f3a"
             ],
             [
              0.8888888888888888,
              "#fdca26"
             ],
             [
              1,
              "#f0f921"
             ]
            ],
            "type": "heatmapgl"
           }
          ],
          "histogram": [
           {
            "marker": {
             "pattern": {
              "fillmode": "overlay",
              "size": 10,
              "solidity": 0.2
             }
            },
            "type": "histogram"
           }
          ],
          "histogram2d": [
           {
            "colorbar": {
             "outlinewidth": 0,
             "ticks": ""
            },
            "colorscale": [
             [
              0,
              "#0d0887"
             ],
             [
              0.1111111111111111,
              "#46039f"
             ],
             [
              0.2222222222222222,
              "#7201a8"
             ],
             [
              0.3333333333333333,
              "#9c179e"
             ],
             [
              0.4444444444444444,
              "#bd3786"
             ],
             [
              0.5555555555555556,
              "#d8576b"
             ],
             [
              0.6666666666666666,
              "#ed7953"
             ],
             [
              0.7777777777777778,
              "#fb9f3a"
             ],
             [
              0.8888888888888888,
              "#fdca26"
             ],
             [
              1,
              "#f0f921"
             ]
            ],
            "type": "histogram2d"
           }
          ],
          "histogram2dcontour": [
           {
            "colorbar": {
             "outlinewidth": 0,
             "ticks": ""
            },
            "colorscale": [
             [
              0,
              "#0d0887"
             ],
             [
              0.1111111111111111,
              "#46039f"
             ],
             [
              0.2222222222222222,
              "#7201a8"
             ],
             [
              0.3333333333333333,
              "#9c179e"
             ],
             [
              0.4444444444444444,
              "#bd3786"
             ],
             [
              0.5555555555555556,
              "#d8576b"
             ],
             [
              0.6666666666666666,
              "#ed7953"
             ],
             [
              0.7777777777777778,
              "#fb9f3a"
             ],
             [
              0.8888888888888888,
              "#fdca26"
             ],
             [
              1,
              "#f0f921"
             ]
            ],
            "type": "histogram2dcontour"
           }
          ],
          "mesh3d": [
           {
            "colorbar": {
             "outlinewidth": 0,
             "ticks": ""
            },
            "type": "mesh3d"
           }
          ],
          "parcoords": [
           {
            "line": {
             "colorbar": {
              "outlinewidth": 0,
              "ticks": ""
             }
            },
            "type": "parcoords"
           }
          ],
          "pie": [
           {
            "automargin": true,
            "type": "pie"
           }
          ],
          "scatter": [
           {
            "fillpattern": {
             "fillmode": "overlay",
             "size": 10,
             "solidity": 0.2
            },
            "type": "scatter"
           }
          ],
          "scatter3d": [
           {
            "line": {
             "colorbar": {
              "outlinewidth": 0,
              "ticks": ""
             }
            },
            "marker": {
             "colorbar": {
              "outlinewidth": 0,
              "ticks": ""
             }
            },
            "type": "scatter3d"
           }
          ],
          "scattercarpet": [
           {
            "marker": {
             "colorbar": {
              "outlinewidth": 0,
              "ticks": ""
             }
            },
            "type": "scattercarpet"
           }
          ],
          "scattergeo": [
           {
            "marker": {
             "colorbar": {
              "outlinewidth": 0,
              "ticks": ""
             }
            },
            "type": "scattergeo"
           }
          ],
          "scattergl": [
           {
            "marker": {
             "colorbar": {
              "outlinewidth": 0,
              "ticks": ""
             }
            },
            "type": "scattergl"
           }
          ],
          "scattermapbox": [
           {
            "marker": {
             "colorbar": {
              "outlinewidth": 0,
              "ticks": ""
             }
            },
            "type": "scattermapbox"
           }
          ],
          "scatterpolar": [
           {
            "marker": {
             "colorbar": {
              "outlinewidth": 0,
              "ticks": ""
             }
            },
            "type": "scatterpolar"
           }
          ],
          "scatterpolargl": [
           {
            "marker": {
             "colorbar": {
              "outlinewidth": 0,
              "ticks": ""
             }
            },
            "type": "scatterpolargl"
           }
          ],
          "scatterternary": [
           {
            "marker": {
             "colorbar": {
              "outlinewidth": 0,
              "ticks": ""
             }
            },
            "type": "scatterternary"
           }
          ],
          "surface": [
           {
            "colorbar": {
             "outlinewidth": 0,
             "ticks": ""
            },
            "colorscale": [
             [
              0,
              "#0d0887"
             ],
             [
              0.1111111111111111,
              "#46039f"
             ],
             [
              0.2222222222222222,
              "#7201a8"
             ],
             [
              0.3333333333333333,
              "#9c179e"
             ],
             [
              0.4444444444444444,
              "#bd3786"
             ],
             [
              0.5555555555555556,
              "#d8576b"
             ],
             [
              0.6666666666666666,
              "#ed7953"
             ],
             [
              0.7777777777777778,
              "#fb9f3a"
             ],
             [
              0.8888888888888888,
              "#fdca26"
             ],
             [
              1,
              "#f0f921"
             ]
            ],
            "type": "surface"
           }
          ],
          "table": [
           {
            "cells": {
             "fill": {
              "color": "#EBF0F8"
             },
             "line": {
              "color": "white"
             }
            },
            "header": {
             "fill": {
              "color": "#C8D4E3"
             },
             "line": {
              "color": "white"
             }
            },
            "type": "table"
           }
          ]
         },
         "layout": {
          "annotationdefaults": {
           "arrowcolor": "#2a3f5f",
           "arrowhead": 0,
           "arrowwidth": 1
          },
          "autotypenumbers": "strict",
          "coloraxis": {
           "colorbar": {
            "outlinewidth": 0,
            "ticks": ""
           }
          },
          "colorscale": {
           "diverging": [
            [
             0,
             "#8e0152"
            ],
            [
             0.1,
             "#c51b7d"
            ],
            [
             0.2,
             "#de77ae"
            ],
            [
             0.3,
             "#f1b6da"
            ],
            [
             0.4,
             "#fde0ef"
            ],
            [
             0.5,
             "#f7f7f7"
            ],
            [
             0.6,
             "#e6f5d0"
            ],
            [
             0.7,
             "#b8e186"
            ],
            [
             0.8,
             "#7fbc41"
            ],
            [
             0.9,
             "#4d9221"
            ],
            [
             1,
             "#276419"
            ]
           ],
           "sequential": [
            [
             0,
             "#0d0887"
            ],
            [
             0.1111111111111111,
             "#46039f"
            ],
            [
             0.2222222222222222,
             "#7201a8"
            ],
            [
             0.3333333333333333,
             "#9c179e"
            ],
            [
             0.4444444444444444,
             "#bd3786"
            ],
            [
             0.5555555555555556,
             "#d8576b"
            ],
            [
             0.6666666666666666,
             "#ed7953"
            ],
            [
             0.7777777777777778,
             "#fb9f3a"
            ],
            [
             0.8888888888888888,
             "#fdca26"
            ],
            [
             1,
             "#f0f921"
            ]
           ],
           "sequentialminus": [
            [
             0,
             "#0d0887"
            ],
            [
             0.1111111111111111,
             "#46039f"
            ],
            [
             0.2222222222222222,
             "#7201a8"
            ],
            [
             0.3333333333333333,
             "#9c179e"
            ],
            [
             0.4444444444444444,
             "#bd3786"
            ],
            [
             0.5555555555555556,
             "#d8576b"
            ],
            [
             0.6666666666666666,
             "#ed7953"
            ],
            [
             0.7777777777777778,
             "#fb9f3a"
            ],
            [
             0.8888888888888888,
             "#fdca26"
            ],
            [
             1,
             "#f0f921"
            ]
           ]
          },
          "colorway": [
           "#636efa",
           "#EF553B",
           "#00cc96",
           "#ab63fa",
           "#FFA15A",
           "#19d3f3",
           "#FF6692",
           "#B6E880",
           "#FF97FF",
           "#FECB52"
          ],
          "font": {
           "color": "#2a3f5f"
          },
          "geo": {
           "bgcolor": "white",
           "lakecolor": "white",
           "landcolor": "#E5ECF6",
           "showlakes": true,
           "showland": true,
           "subunitcolor": "white"
          },
          "hoverlabel": {
           "align": "left"
          },
          "hovermode": "closest",
          "mapbox": {
           "style": "light"
          },
          "paper_bgcolor": "white",
          "plot_bgcolor": "#E5ECF6",
          "polar": {
           "angularaxis": {
            "gridcolor": "white",
            "linecolor": "white",
            "ticks": ""
           },
           "bgcolor": "#E5ECF6",
           "radialaxis": {
            "gridcolor": "white",
            "linecolor": "white",
            "ticks": ""
           }
          },
          "scene": {
           "xaxis": {
            "backgroundcolor": "#E5ECF6",
            "gridcolor": "white",
            "gridwidth": 2,
            "linecolor": "white",
            "showbackground": true,
            "ticks": "",
            "zerolinecolor": "white"
           },
           "yaxis": {
            "backgroundcolor": "#E5ECF6",
            "gridcolor": "white",
            "gridwidth": 2,
            "linecolor": "white",
            "showbackground": true,
            "ticks": "",
            "zerolinecolor": "white"
           },
           "zaxis": {
            "backgroundcolor": "#E5ECF6",
            "gridcolor": "white",
            "gridwidth": 2,
            "linecolor": "white",
            "showbackground": true,
            "ticks": "",
            "zerolinecolor": "white"
           }
          },
          "shapedefaults": {
           "line": {
            "color": "#2a3f5f"
           }
          },
          "ternary": {
           "aaxis": {
            "gridcolor": "white",
            "linecolor": "white",
            "ticks": ""
           },
           "baxis": {
            "gridcolor": "white",
            "linecolor": "white",
            "ticks": ""
           },
           "bgcolor": "#E5ECF6",
           "caxis": {
            "gridcolor": "white",
            "linecolor": "white",
            "ticks": ""
           }
          },
          "title": {
           "x": 0.05
          },
          "xaxis": {
           "automargin": true,
           "gridcolor": "white",
           "linecolor": "white",
           "ticks": "",
           "title": {
            "standoff": 15
           },
           "zerolinecolor": "white",
           "zerolinewidth": 2
          },
          "yaxis": {
           "automargin": true,
           "gridcolor": "white",
           "linecolor": "white",
           "ticks": "",
           "title": {
            "standoff": 15
           },
           "zerolinecolor": "white",
           "zerolinewidth": 2
          }
         }
        },
        "title": {
         "text": "Sankey Diagram of Protein Categories per Region"
        }
       }
      }
     },
     "metadata": {},
     "output_type": "display_data"
    }
   ],
   "source": [
    "df_explode['operating_regions'].value_counts(normalize=True)\n",
    "\n",
    "# Preparing data for the Sankey diagram\n",
    "sankey_data = df_explode.groupby(['operating_regions', 'protein_category_new']).size().reset_index(name='counts')\n",
    "\n",
    "# Calculate the total counts for each region\n",
    "total_counts_per_region = sankey_data.groupby('operating_regions')['counts'].transform('sum')\n",
    "\n",
    "# Calculate the percentage within each group\n",
    "sankey_data['percentage'] = (sankey_data['counts'] / total_counts_per_region) * 100\n",
    "\n",
    "# Sort the sankey_data by counts in descending order\n",
    "sankey_data = sankey_data.sort_values(by='percentage', ascending=False)\n",
    "\n",
    "# Creating ordered lists of all unique regions and protein categories based on sorted data\n",
    "all_regions = sankey_data['operating_regions'].unique().tolist()\n",
    "all_categories = sankey_data['protein_category_new'].unique().tolist()\n",
    "all_nodes = all_regions + all_categories\n",
    "\n",
    "# Mapping each unique region and protein category to an index\n",
    "node_indices = {node: idx for idx, node in enumerate(all_nodes)}\n",
    "\n",
    "# Preparing the source, target, and value lists for the Sankey diagram\n",
    "source = sankey_data['operating_regions'].map(node_indices)\n",
    "target = sankey_data['protein_category_new'].map(node_indices)\n",
    "value = sankey_data['counts']\n",
    "\n",
    "# Creating the Sankey diagram\n",
    "fig = go.Figure(data=[go.Sankey(\n",
    "    node=dict(\n",
    "        pad=15,\n",
    "        thickness=20,\n",
    "        line=dict(color=\"black\", width=0.5),\n",
    "        label=all_nodes,\n",
    "    ),\n",
    "    link=dict(\n",
    "        source=source,\n",
    "        target=target,\n",
    "        value=value\n",
    "    ))])\n",
    "\n",
    "fig.update_layout(title_text=\"Sankey Diagram of Protein Categories per Region\", font_size=10)\n",
    "\n",
    "# Show the figure\n",
    "fig.show()\n"
   ]
  },
  {
   "cell_type": "markdown",
   "metadata": {},
   "source": [
    "## Top 10 Countries Investing in Alt Proteins"
   ]
  },
  {
   "cell_type": "code",
   "execution_count": 19,
   "metadata": {},
   "outputs": [
    {
     "data": {
      "image/png": "[encoded data removed]",
      "text/plain": [
       "<Figure size 1000x600 with 1 Axes>"
      ]
     },
     "metadata": {},
     "output_type": "display_data"
    }
   ],
   "source": [
    "top_countries = df['country_region'].value_counts(normalize=True).reset_index()\n",
    "top_countries['proportion'] = top_countries['proportion'] * 100\n",
    "\n",
    "# Creating the density plot with sorted categories\n",
    "plt.figure(figsize=(10, 6))\n",
    "sns.barplot(data=top_countries.head(10), x='proportion', y='country_region', edgecolor='black')\n",
    "plt.title('USA leads the alt protein industry', fontsize=30)\n",
    "plt.ylabel('')\n",
    "plt.xlabel('Percentage (%)')\n",
    "plt.show()"
   ]
  },
  {
   "cell_type": "code",
   "execution_count": 20,
   "metadata": {},
   "outputs": [
    {
     "name": "stderr",
     "output_type": "stream",
     "text": [
      "C:\\Users\\Ale\\AppData\\Local\\Temp\\ipykernel_7964\\3304577605.py:11: SettingWithCopyWarning:\n",
      "\n",
      "\n",
      "A value is trying to be set on a copy of a slice from a DataFrame.\n",
      "Try using .loc[row_indexer,col_indexer] = value instead\n",
      "\n",
      "See the caveats in the documentation: https://pandas.pydata.org/pandas-docs/stable/user_guide/indexing.html#returning-a-view-versus-a-copy\n",
      "\n"
     ]
    },
    {
     "data": {
      "application/vnd.plotly.v1+json": {
       "config": {
        "plotlyServerURL": "https://plot.ly"
       },
       "data": [
        {
         "coloraxis": "coloraxis",
         "geo": "geo",
         "hovertemplate": "state_code=%{location}<br>count=%{z}<extra></extra>",
         "locationmode": "USA-states",
         "locations": [
          "12",
          "AL",
          "AR",
          "AZ",
          "CA",
          "CO",
          "CT",
          "DE",
          "FL",
          "GA",
          "HI",
          "IA",
          "ID",
          "IL",
          "KS",
          "KY",
          "MA",
          "MI",
          "MN",
          "MO",
          "MY",
          "NC",
          "NE",
          "NH",
          "NJ",
          "NV",
          "NY",
          "OH",
          "OR",
          "PA",
          "TN",
          "TX",
          "UT",
          "VA",
          "VT",
          "WA",
          "WI"
         ],
         "name": "",
         "type": "choropleth",
         "z": [
          2,
          1,
          1,
          3,
          147,
          21,
          5,
          3,
          10,
          5,
          3,
          3,
          1,
          19,
          2,
          1,
          12,
          9,
          6,
          2,
          4,
          16,
          1,
          1,
          11,
          1,
          43,
          5,
          17,
          4,
          2,
          15,
          1,
          5,
          1,
          9,
          8
         ]
        }
       ],
       "layout": {
        "coloraxis": {
         "colorbar": {
          "title": {
           "text": "count"
          }
         },
         "colorscale": [
          [
           0,
           "#440154"
          ],
          [
           0.1111111111111111,
           "#482878"
          ],
          [
           0.2222222222222222,
           "#3e4989"
          ],
          [
           0.3333333333333333,
           "#31688e"
          ],
          [
           0.4444444444444444,
           "#26828e"
          ],
          [
           0.5555555555555556,
           "#1f9e89"
          ],
          [
           0.6666666666666666,
           "#35b779"
          ],
          [
           0.7777777777777778,
           "#6ece58"
          ],
          [
           0.8888888888888888,
           "#b5de2b"
          ],
          [
           1,
           "#fde725"
          ]
         ]
        },
        "geo": {
         "center": {},
         "domain": {
          "x": [
           0,
           1
          ],
          "y": [
           0,
           1
          ]
         },
         "scope": "usa"
        },
        "legend": {
         "tracegroupgap": 0
        },
        "template": {
         "data": {
          "bar": [
           {
            "error_x": {
             "color": "#2a3f5f"
            },
            "error_y": {
             "color": "#2a3f5f"
            },
            "marker": {
             "line": {
              "color": "#E5ECF6",
              "width": 0.5
             },
             "pattern": {
              "fillmode": "overlay",
              "size": 10,
              "solidity": 0.2
             }
            },
            "type": "bar"
           }
          ],
          "barpolar": [
           {
            "marker": {
             "line": {
              "color": "#E5ECF6",
              "width": 0.5
             },
             "pattern": {
              "fillmode": "overlay",
              "size": 10,
              "solidity": 0.2
             }
            },
            "type": "barpolar"
           }
          ],
          "carpet": [
           {
            "aaxis": {
             "endlinecolor": "#2a3f5f",
             "gridcolor": "white",
             "linecolor": "white",
             "minorgridcolor": "white",
             "startlinecolor": "#2a3f5f"
            },
            "baxis": {
             "endlinecolor": "#2a3f5f",
             "gridcolor": "white",
             "linecolor": "white",
             "minorgridcolor": "white",
             "startlinecolor": "#2a3f5f"
            },
            "type": "carpet"
           }
          ],
          "choropleth": [
           {
            "colorbar": {
             "outlinewidth": 0,
             "ticks": ""
            },
            "type": "choropleth"
           }
          ],
          "contour": [
           {
            "colorbar": {
             "outlinewidth": 0,
             "ticks": ""
            },
            "colorscale": [
             [
              0,
              "#0d0887"
             ],
             [
              0.1111111111111111,
              "#46039f"
             ],
             [
              0.2222222222222222,
              "#7201a8"
             ],
             [
              0.3333333333333333,
              "#9c179e"
             ],
             [
              0.4444444444444444,
              "#bd3786"
             ],
             [
              0.5555555555555556,
              "#d8576b"
             ],
             [
              0.6666666666666666,
              "#ed7953"
             ],
             [
              0.7777777777777778,
              "#fb9f3a"
             ],
             [
              0.8888888888888888,
              "#fdca26"
             ],
             [
              1,
              "#f0f921"
             ]
            ],
            "type": "contour"
           }
          ],
          "contourcarpet": [
           {
            "colorbar": {
             "outlinewidth": 0,
             "ticks": ""
            },
            "type": "contourcarpet"
           }
          ],
          "heatmap": [
           {
            "colorbar": {
             "outlinewidth": 0,
             "ticks": ""
            },
            "colorscale": [
             [
              0,
              "#0d0887"
             ],
             [
              0.1111111111111111,
              "#46039f"
             ],
             [
              0.2222222222222222,
              "#7201a8"
             ],
             [
              0.3333333333333333,
              "#9c179e"
             ],
             [
              0.4444444444444444,
              "#bd3786"
             ],
             [
              0.5555555555555556,
              "#d8576b"
             ],
             [
              0.6666666666666666,
              "#ed7953"
             ],
             [
              0.7777777777777778,
              "#fb9f3a"
             ],
             [
              0.8888888888888888,
              "#fdca26"
             ],
             [
              1,
              "#f0f921"
             ]
            ],
            "type": "heatmap"
           }
          ],
          "heatmapgl": [
           {
            "colorbar": {
             "outlinewidth": 0,
             "ticks": ""
            },
            "colorscale": [
             [
              0,
              "#0d0887"
             ],
             [
              0.1111111111111111,
              "#46039f"
             ],
             [
              0.2222222222222222,
              "#7201a8"
             ],
             [
              0.3333333333333333,
              "#9c179e"
             ],
             [
              0.4444444444444444,
              "#bd3786"
             ],
             [
              0.5555555555555556,
              "#d8576b"
             ],
             [
              0.6666666666666666,
              "#ed7953"
             ],
             [
              0.7777777777777778,
              "#fb9f3a"
             ],
             [
              0.8888888888888888,
              "#fdca26"
             ],
             [
              1,
              "#f0f921"
             ]
            ],
            "type": "heatmapgl"
           }
          ],
          "histogram": [
           {
            "marker": {
             "pattern": {
              "fillmode": "overlay",
              "size": 10,
              "solidity": 0.2
             }
            },
            "type": "histogram"
           }
          ],
          "histogram2d": [
           {
            "colorbar": {
             "outlinewidth": 0,
             "ticks": ""
            },
            "colorscale": [
             [
              0,
              "#0d0887"
             ],
             [
              0.1111111111111111,
              "#46039f"
             ],
             [
              0.2222222222222222,
              "#7201a8"
             ],
             [
              0.3333333333333333,
              "#9c179e"
             ],
             [
              0.4444444444444444,
              "#bd3786"
             ],
             [
              0.5555555555555556,
              "#d8576b"
             ],
             [
              0.6666666666666666,
              "#ed7953"
             ],
             [
              0.7777777777777778,
              "#fb9f3a"
             ],
             [
              0.8888888888888888,
              "#fdca26"
             ],
             [
              1,
              "#f0f921"
             ]
            ],
            "type": "histogram2d"
           }
          ],
          "histogram2dcontour": [
           {
            "colorbar": {
             "outlinewidth": 0,
             "ticks": ""
            },
            "colorscale": [
             [
              0,
              "#0d0887"
             ],
             [
              0.1111111111111111,
              "#46039f"
             ],
             [
              0.2222222222222222,
              "#7201a8"
             ],
             [
              0.3333333333333333,
              "#9c179e"
             ],
             [
              0.4444444444444444,
              "#bd3786"
             ],
             [
              0.5555555555555556,
              "#d8576b"
             ],
             [
              0.6666666666666666,
              "#ed7953"
             ],
             [
              0.7777777777777778,
              "#fb9f3a"
             ],
             [
              0.8888888888888888,
              "#fdca26"
             ],
             [
              1,
              "#f0f921"
             ]
            ],
            "type": "histogram2dcontour"
           }
          ],
          "mesh3d": [
           {
            "colorbar": {
             "outlinewidth": 0,
             "ticks": ""
            },
            "type": "mesh3d"
           }
          ],
          "parcoords": [
           {
            "line": {
             "colorbar": {
              "outlinewidth": 0,
              "ticks": ""
             }
            },
            "type": "parcoords"
           }
          ],
          "pie": [
           {
            "automargin": true,
            "type": "pie"
           }
          ],
          "scatter": [
           {
            "fillpattern": {
             "fillmode": "overlay",
             "size": 10,
             "solidity": 0.2
            },
            "type": "scatter"
           }
          ],
          "scatter3d": [
           {
            "line": {
             "colorbar": {
              "outlinewidth": 0,
              "ticks": ""
             }
            },
            "marker": {
             "colorbar": {
              "outlinewidth": 0,
              "ticks": ""
             }
            },
            "type": "scatter3d"
           }
          ],
          "scattercarpet": [
           {
            "marker": {
             "colorbar": {
              "outlinewidth": 0,
              "ticks": ""
             }
            },
            "type": "scattercarpet"
           }
          ],
          "scattergeo": [
           {
            "marker": {
             "colorbar": {
              "outlinewidth": 0,
              "ticks": ""
             }
            },
            "type": "scattergeo"
           }
          ],
          "scattergl": [
           {
            "marker": {
             "colorbar": {
              "outlinewidth": 0,
              "ticks": ""
             }
            },
            "type": "scattergl"
           }
          ],
          "scattermapbox": [
           {
            "marker": {
             "colorbar": {
              "outlinewidth": 0,
              "ticks": ""
             }
            },
            "type": "scattermapbox"
           }
          ],
          "scatterpolar": [
           {
            "marker": {
             "colorbar": {
              "outlinewidth": 0,
              "ticks": ""
             }
            },
            "type": "scatterpolar"
           }
          ],
          "scatterpolargl": [
           {
            "marker": {
             "colorbar": {
              "outlinewidth": 0,
              "ticks": ""
             }
            },
            "type": "scatterpolargl"
           }
          ],
          "scatterternary": [
           {
            "marker": {
             "colorbar": {
              "outlinewidth": 0,
              "ticks": ""
             }
            },
            "type": "scatterternary"
           }
          ],
          "surface": [
           {
            "colorbar": {
             "outlinewidth": 0,
             "ticks": ""
            },
            "colorscale": [
             [
              0,
              "#0d0887"
             ],
             [
              0.1111111111111111,
              "#46039f"
             ],
             [
              0.2222222222222222,
              "#7201a8"
             ],
             [
              0.3333333333333333,
              "#9c179e"
             ],
             [
              0.4444444444444444,
              "#bd3786"
             ],
             [
              0.5555555555555556,
              "#d8576b"
             ],
             [
              0.6666666666666666,
              "#ed7953"
             ],
             [
              0.7777777777777778,
              "#fb9f3a"
             ],
             [
              0.8888888888888888,
              "#fdca26"
             ],
             [
              1,
              "#f0f921"
             ]
            ],
            "type": "surface"
           }
          ],
          "table": [
           {
            "cells": {
             "fill": {
              "color": "#EBF0F8"
             },
             "line": {
              "color": "white"
             }
            },
            "header": {
             "fill": {
              "color": "#C8D4E3"
             },
             "line": {
              "color": "white"
             }
            },
            "type": "table"
           }
          ]
         },
         "layout": {
          "annotationdefaults": {
           "arrowcolor": "#2a3f5f",
           "arrowhead": 0,
           "arrowwidth": 1
          },
          "autotypenumbers": "strict",
          "coloraxis": {
           "colorbar": {
            "outlinewidth": 0,
            "ticks": ""
           }
          },
          "colorscale": {
           "diverging": [
            [
             0,
             "#8e0152"
            ],
            [
             0.1,
             "#c51b7d"
            ],
            [
             0.2,
             "#de77ae"
            ],
            [
             0.3,
             "#f1b6da"
            ],
            [
             0.4,
             "#fde0ef"
            ],
            [
             0.5,
             "#f7f7f7"
            ],
            [
             0.6,
             "#e6f5d0"
            ],
            [
             0.7,
             "#b8e186"
            ],
            [
             0.8,
             "#7fbc41"
            ],
            [
             0.9,
             "#4d9221"
            ],
            [
             1,
             "#276419"
            ]
           ],
           "sequential": [
            [
             0,
             "#0d0887"
            ],
            [
             0.1111111111111111,
             "#46039f"
            ],
            [
             0.2222222222222222,
             "#7201a8"
            ],
            [
             0.3333333333333333,
             "#9c179e"
            ],
            [
             0.4444444444444444,
             "#bd3786"
            ],
            [
             0.5555555555555556,
             "#d8576b"
            ],
            [
             0.6666666666666666,
             "#ed7953"
            ],
            [
             0.7777777777777778,
             "#fb9f3a"
            ],
            [
             0.8888888888888888,
             "#fdca26"
            ],
            [
             1,
             "#f0f921"
            ]
           ],
           "sequentialminus": [
            [
             0,
             "#0d0887"
            ],
            [
             0.1111111111111111,
             "#46039f"
            ],
            [
             0.2222222222222222,
             "#7201a8"
            ],
            [
             0.3333333333333333,
             "#9c179e"
            ],
            [
             0.4444444444444444,
             "#bd3786"
            ],
            [
             0.5555555555555556,
             "#d8576b"
            ],
            [
             0.6666666666666666,
             "#ed7953"
            ],
            [
             0.7777777777777778,
             "#fb9f3a"
            ],
            [
             0.8888888888888888,
             "#fdca26"
            ],
            [
             1,
             "#f0f921"
            ]
           ]
          },
          "colorway": [
           "#636efa",
           "#EF553B",
           "#00cc96",
           "#ab63fa",
           "#FFA15A",
           "#19d3f3",
           "#FF6692",
           "#B6E880",
           "#FF97FF",
           "#FECB52"
          ],
          "font": {
           "color": "#2a3f5f"
          },
          "geo": {
           "bgcolor": "white",
           "lakecolor": "white",
           "landcolor": "#E5ECF6",
           "showlakes": true,
           "showland": true,
           "subunitcolor": "white"
          },
          "hoverlabel": {
           "align": "left"
          },
          "hovermode": "closest",
          "mapbox": {
           "style": "light"
          },
          "paper_bgcolor": "white",
          "plot_bgcolor": "#E5ECF6",
          "polar": {
           "angularaxis": {
            "gridcolor": "white",
            "linecolor": "white",
            "ticks": ""
           },
           "bgcolor": "#E5ECF6",
           "radialaxis": {
            "gridcolor": "white",
            "linecolor": "white",
            "ticks": ""
           }
          },
          "scene": {
           "xaxis": {
            "backgroundcolor": "#E5ECF6",
            "gridcolor": "white",
            "gridwidth": 2,
            "linecolor": "white",
            "showbackground": true,
            "ticks": "",
            "zerolinecolor": "white"
           },
           "yaxis": {
            "backgroundcolor": "#E5ECF6",
            "gridcolor": "white",
            "gridwidth": 2,
            "linecolor": "white",
            "showbackground": true,
            "ticks": "",
            "zerolinecolor": "white"
           },
           "zaxis": {
            "backgroundcolor": "#E5ECF6",
            "gridcolor": "white",
            "gridwidth": 2,
            "linecolor": "white",
            "showbackground": true,
            "ticks": "",
            "zerolinecolor": "white"
           }
          },
          "shapedefaults": {
           "line": {
            "color": "#2a3f5f"
           }
          },
          "ternary": {
           "aaxis": {
            "gridcolor": "white",
            "linecolor": "white",
            "ticks": ""
           },
           "baxis": {
            "gridcolor": "white",
            "linecolor": "white",
            "ticks": ""
           },
           "bgcolor": "#E5ECF6",
           "caxis": {
            "gridcolor": "white",
            "linecolor": "white",
            "ticks": ""
           }
          },
          "title": {
           "x": 0.05
          },
          "xaxis": {
           "automargin": true,
           "gridcolor": "white",
           "linecolor": "white",
           "ticks": "",
           "title": {
            "standoff": 15
           },
           "zerolinecolor": "white",
           "zerolinewidth": 2
          },
          "yaxis": {
           "automargin": true,
           "gridcolor": "white",
           "linecolor": "white",
           "ticks": "",
           "title": {
            "standoff": 15
           },
           "zerolinecolor": "white",
           "zerolinewidth": 2
          }
         }
        },
        "title": {
         "text": "With the vast majority of companies founded in California"
        }
       }
      }
     },
     "metadata": {},
     "output_type": "display_data"
    }
   ],
   "source": [
    "# Function to convert state names to their alpha-2 codes\n",
    "def state_to_code(state_name):\n",
    "    try:\n",
    "        return pycountry.subdivisions.lookup(state_name).code.split('-')[-1]\n",
    "    except:\n",
    "        return None\n",
    "    \n",
    "us_data = df[df['country_region'] == 'United States']\n",
    "\n",
    "# Apply the function to standardize state names\n",
    "us_data['state_code'] = us_data['state'].apply(state_to_code)\n",
    "\n",
    "\n",
    "state_counts = us_data.groupby('state_code').size().reset_index(name='count')\n",
    "\n",
    "# Create plot\n",
    "fig = px.choropleth(state_counts,\n",
    "                    locations='state_code', \n",
    "                    locationmode='USA-states', \n",
    "                    color='count',\n",
    "                    scope=\"usa\",\n",
    "                    color_continuous_scale=\"Viridis\",\n",
    "                    title='With the vast majority of companies founded in California'\n",
    ")\n",
    "\n",
    "fig.show()\n"
   ]
  },
  {
   "cell_type": "markdown",
   "metadata": {},
   "source": [
    "## ML - KModes Clustering"
   ]
  },
  {
   "cell_type": "markdown",
   "metadata": {},
   "source": [
    "### Market segments (Cluster Centroids):\n",
    "\n",
    "`['Plant-based' 'Meat' 'Asia Pacific']` - Plant-based meat substitues in the Asia Pacific region.\n",
    "\n",
    "`['Biomass fermentation' 'Dairy' 'U.S. and Canada']` - Biomass fermentation in dairy alternatives in USA and Canada.\n",
    "\n",
    "`['Plant-based' 'Dairy' 'Europe']` - Plant-based dairy alternatives in Europe."
   ]
  },
  {
   "cell_type": "code",
   "execution_count": 21,
   "metadata": {},
   "outputs": [
    {
     "name": "stdout",
     "output_type": "stream",
     "text": [
      "Initialization method and algorithm are deterministic. Setting n_init to 1.\n",
      "Init: initializing centroids\n",
      "Init: initializing clusters\n",
      "Starting iterations...\n",
      "Run 1, iteration: 1/100, moves: 0, cost: 71057.0\n",
      "[['Plant-based' 'Meat' 'Asia Pacific']\n",
      " ['Biomass fermentation' 'Dairy' 'U.S. and Canada']\n",
      " ['Plant-based' 'Dairy' 'Europe']]\n"
     ]
    }
   ],
   "source": [
    "from kmodes.kmodes import KModes\n",
    "\n",
    "columns_to_cluster = ['protein_category', 'company_focus', 'operating_regions']\n",
    "\n",
    "df_explode.dropna(subset=columns_to_cluster, inplace=True)\n",
    "data_for_clustering = df_explode[columns_to_cluster].astype('category')\n",
    "\n",
    "# Initializing and fitting the K-modes model\n",
    "km = KModes(n_clusters=3, init='Cao', n_init=5, verbose=1)\n",
    "clusters = km.fit_predict(data_for_clustering)\n",
    "\n",
    "# Adding the cluster labels to the original dataframe\n",
    "df_explode['cluster'] = clusters\n",
    "\n",
    "print(km.cluster_centroids_)\n"
   ]
  },
  {
   "cell_type": "markdown",
   "metadata": {},
   "source": [
    "# ML - Linear Regression\n",
    "\n",
    "With and estimated 23 new companies created per year between 2015 and 2020, these were the best years in the alternative protein business.  The hype ended in 2021 with and estimated number of 76 companies closing per year between the years 2021 and 2023."
   ]
  },
  {
   "cell_type": "code",
   "execution_count": 22,
   "metadata": {},
   "outputs": [
    {
     "name": "stdout",
     "output_type": "stream",
     "text": [
      "1970-2014:  0.46 companies founded per year\n",
      "2015-2020:  23.00 companies founded per year\n",
      "2021-2023: -76.00 companies founded per year\n"
     ]
    }
   ],
   "source": [
    "from sklearn.linear_model import LinearRegression\n",
    "\n",
    "# Count the number of companies founded per year\n",
    "companies_per_year = df.groupby('year_founded')['company'].count().reset_index()\n",
    "\n",
    "# Split the data into two subsets for the specified periods\n",
    "subset_1970_2014 = companies_per_year[(companies_per_year['year_founded'] >= 1970) & (companies_per_year['year_founded'] <= 2014)]\n",
    "subset_2015_2020 = companies_per_year[(companies_per_year['year_founded'] >= 2015) & (companies_per_year['year_founded'] <= 2020)]\n",
    "subset_2021_2023 = companies_per_year[(companies_per_year['year_founded'] >= 2021) & (companies_per_year['year_founded'] <= 2023)]\n",
    "\n",
    "# Linear regression models for each subset\n",
    "model_1970_2014 = LinearRegression().fit(subset_1970_2014[['year_founded']], subset_1970_2014['company'])\n",
    "model_2015_2020 = LinearRegression().fit(subset_2015_2020[['year_founded']], subset_2015_2020['company'])\n",
    "model_2015_2023 = LinearRegression().fit(subset_2021_2023[['year_founded']], subset_2021_2023['company'])\n",
    "\n",
    "# Coefficients and intercepts for each model\n",
    "coeff_1970_2014 = model_1970_2014.coef_[0]\n",
    "intercept_1970_2014 = model_1970_2014.intercept_\n",
    "\n",
    "coeff_2015_2020 = model_2015_2020.coef_[0]\n",
    "intercept_2015_2020 = model_2015_2020.intercept_\n",
    "\n",
    "coeff_2021_2023 = model_2015_2023.coef_[0]\n",
    "intercept_2021_2023 = model_2015_2023.intercept_\n",
    "\n",
    "\n",
    "print(f'1970-2014: {coeff_1970_2014: .2f} companies founded per year')\n",
    "print(f'2015-2020: {coeff_2015_2020: .2f} companies founded per year')\n",
    "print(f'2021-2023: {coeff_2021_2023: .2f} companies founded per year')"
   ]
  },
  {
   "cell_type": "code",
   "execution_count": 23,
   "metadata": {},
   "outputs": [
    {
     "data": {
      "image/png": "[encoded data removed]",
      "text/plain": [
       "<Figure size 640x480 with 1 Axes>"
      ]
     },
     "metadata": {},
     "output_type": "display_data"
    }
   ],
   "source": [
    "# Scatter plot with seaborn for each period\n",
    "sns.scatterplot(data=subset_1970_2014, x='year_founded', y='company', color='blue', label='1970-2014')\n",
    "sns.scatterplot(data=subset_2015_2020, x='year_founded', y='company', color='green', label='2015-2019')\n",
    "sns.scatterplot(data=subset_2021_2023, x='year_founded', y='company', color='red', label='2021-2023')\n",
    "\n",
    "# Adding linear regression lines with seaborn\n",
    "sns.regplot(x='year_founded', y='company', data=subset_1970_2014, scatter=False, color='blue', label='Linear Regression 1970-2014')\n",
    "sns.regplot(x='year_founded', y='company', data=subset_2015_2020, scatter=False, color='green', label='Linear Regression 2015-2019')\n",
    "sns.regplot(x='year_founded', y='company', data=subset_2021_2023, scatter=False, color='red', label='Linear Regression 2021-2023')\n",
    "\n",
    "plt.xlabel('Year Founded')\n",
    "plt.ylabel('Number of Companies')\n",
    "plt.title('Number of Companies Founded Per Year (with Linear Regression)')\n",
    "plt.legend()\n",
    "plt.show()"
   ]
  }
 ],
 "metadata": {
  "kernelspec": {
   "display_name": "alt-protein",
   "language": "python",
   "name": "python3"
  },
  "language_info": {
   "codemirror_mode": {
    "name": "ipython",
    "version": 3
   },
   "file_extension": ".py",
   "mimetype": "text/x-python",
   "name": "python",
   "nbconvert_exporter": "python",
   "pygments_lexer": "ipython3",
   "version": "3.11.5"
  }
 },
 "nbformat": 4,
 "nbformat_minor": 2
}
